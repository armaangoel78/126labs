{
 "cells": [
  {
   "cell_type": "markdown",
   "source": "# Programming for Probability\n\n#### Authors:\nv1.0 (Spring 2020) William Gan, Aditya Sengupta, Christina Zhang, Sasha Khazatsky, Kannan Ramchandran",
   "metadata": {
    "cell_id": "bca4b24c-a8a3-44a3-ba6a-ad21c596972e",
    "deepnote_cell_type": "markdown"
   }
  },
  {
   "cell_type": "markdown",
   "source": "## Introduction\n\nWhat's the probability that a 5 card hand in poker is a flush? What's the expected number of times you have to flip a coin until you see three heads in a row? What's the optimal way to play blackjack at a casino?\n\nIn EECS 126, we teach you techniques to answer these questions with just pencil and paper. However, in the real world, it can be useful to simply use computers to calculate these answers. In this lab, we give an overview of various techniques to do so and give you some practice.",
   "metadata": {
    "cell_id": "00001-dc4bdfd2-32cd-44c2-b40d-0eb057f8a33b",
    "deepnote_cell_type": "markdown"
   }
  },
  {
   "cell_type": "code",
   "metadata": {
    "cell_id": "00002-de97ffa6-6bc5-4bbe-b957-fbdadd117499",
    "deepnote_to_be_reexecuted": false,
    "source_hash": "e45ca802",
    "execution_start": 1643940525805,
    "execution_millis": 1379028,
    "deepnote_cell_type": "code"
   },
   "source": "import itertools\n\nimport numpy as np",
   "execution_count": 1,
   "outputs": []
  },
  {
   "cell_type": "markdown",
   "source": "## Q1: Brute Force / Exhaustive Search\n\nSometimes it's possible to iterate through every outcome. For example, to find the probability that a 5 card hand in poker is a flush, maybe we can just iterate over every possible 5 card hand and then see how many are flushes. Since every 5 card hand is equally likely, the probability can be found via simple division.",
   "metadata": {
    "cell_id": "00003-a526cb61-6752-40a4-8948-1b219ace12f5",
    "deepnote_cell_type": "markdown"
   }
  },
  {
   "cell_type": "markdown",
   "source": "**Question: How many 5 card hands are there (exact number)?**\n\n4*(13 5) = 5148",
   "metadata": {
    "cell_id": "00004-bb38319c-5df7-401a-8817-0fc19baeac5b",
    "deepnote_cell_type": "markdown"
   }
  },
  {
   "cell_type": "markdown",
   "source": "**Fill in the following functions that are used to calculate if a hand is a flush.** A 5-card hand is a flush if all the suits are the same and it is not a straight. A straight consists of 5 consecutive ranks e.g. 8 9 10 J Q. Ranks are not allowed to wrap around (e.g. K A 2 3 4) is not a straight; however, the ace **is** allowed to be at the front or back. So 10 J Q K A and A 2 3 4 5 are straights. You can run `test_is_consecutive` to make sure it works.",
   "metadata": {
    "cell_id": "00005-792f627d-a7a5-4add-ba40-b57df1766581",
    "deepnote_cell_type": "markdown"
   }
  },
  {
   "cell_type": "code",
   "metadata": {
    "cell_id": "00006-91795887-c177-483e-b6cc-ae4b3069eacb",
    "deepnote_to_be_reexecuted": false,
    "source_hash": "18bc74f",
    "execution_start": 1643940525847,
    "execution_millis": 1379059,
    "deepnote_cell_type": "code"
   },
   "source": "RANKS = [2, 3, 4, 5, 6, 7, 8, 9, 10, 'J', 'Q', 'K', 'A']\nSUITS = ['C', 'D', 'H', 'S']",
   "execution_count": 2,
   "outputs": []
  },
  {
   "cell_type": "code",
   "metadata": {
    "cell_id": "00007-738244fb-b314-4b85-b8cd-f4e95e3c41e8",
    "deepnote_to_be_reexecuted": false,
    "source_hash": "2d77012c",
    "execution_start": 1643940525849,
    "execution_millis": 1379007,
    "deepnote_cell_type": "code"
   },
   "source": "def is_same_suit(hand):\n    for c in hand:\n        if c[1] != hand[0][1]:\n            return False\n    ### BEGIN YOUR SOLUTION\n    return True\n    ### END YOUR SOLUTION\n\n\ndef get_value(card):\n    if card == \"A\":\n        return 1\n    elif card == \"J\":\n        return 11\n    elif card == \"Q\":\n        return 12\n    elif card == \"K\":\n        return 13\n    else:\n        return card\n    \ndef is_consecutive(hand):\n    assert len(hand) == 5\n\n    curVal = get_value(hand[0][0]) + 1\n\n    for i in range(1,len(hand)):\n        if curVal > 13 and i == 4:\n            curVal = 1\n\n        val = get_value(hand[i][0])\n\n        if val != curVal:\n            return False\n\n        curVal = val + 1\n    ### BEGIN YOUR SOLUTION\n    return True\n    ### END YOUR SOLUTION\n\ndef is_flush(hand):\n    assert len(hand) == 5\n    return is_same_suit(hand) and not is_consecutive(hand)",
   "execution_count": 3,
   "outputs": []
  },
  {
   "cell_type": "code",
   "metadata": {
    "cell_id": "00008-6f11200c-f49b-407d-bb41-79f4b88076dd",
    "deepnote_to_be_reexecuted": false,
    "source_hash": "d79ae598",
    "execution_start": 1643940525895,
    "execution_millis": 1379007,
    "deepnote_cell_type": "code"
   },
   "source": "def test_is_consecutive():\n    assert is_consecutive(((8, 'C'), (9, 'D'), (10, 'H'), ('J', 'S'), ('Q', 'C')))\n    assert not is_consecutive(((8, 'C'), (9, 'D'), (2, 'H'), ('J', 'S'), ('Q', 'C')))\n    assert is_consecutive(((10, 'C'), ('J', 'C'), ('Q', 'C'), ('K', 'C'), ('A', 'C')))\n    assert is_consecutive((('A', 'H'), (2, 'H'), (3, 'H'), (4, 'D'), (5, 'C')))\n    assert not is_consecutive((('K', 'H'), ('A', 'H'), (2, 'H'), (3, 'D'), (4, 'C')))\n    print('All tests passed')",
   "execution_count": 4,
   "outputs": []
  },
  {
   "cell_type": "code",
   "metadata": {
    "cell_id": "00009-7279bd61-8b52-4168-a07f-bebaf30af84d",
    "deepnote_to_be_reexecuted": false,
    "source_hash": "741782cf",
    "execution_start": 1643940525896,
    "execution_millis": 1378975,
    "deepnote_output_heights": [
     232,
     251
    ],
    "deepnote_cell_type": "code"
   },
   "source": "test_is_consecutive()",
   "execution_count": 5,
   "outputs": [
    {
     "name": "stdout",
     "text": "All tests passed\n",
     "output_type": "stream"
    }
   ]
  },
  {
   "cell_type": "markdown",
   "source": "`itertools` is a built-in Python library that provides Python generators for things like permutations and combinations. For example, `itertools.product(RANKS, SUITS)` returns the tuples (2, 'C'), (2, 'D'), ..., ('A', 'S'). **Use it to iterate through every 5 card hand and calculate the probability of a flush.**\n\nHint: Look through the Python documentation to find `itertools.combinations`.",
   "metadata": {
    "cell_id": "00010-f392efc4-809b-4541-b349-f33873fc735a",
    "deepnote_cell_type": "markdown"
   }
  },
  {
   "cell_type": "code",
   "metadata": {
    "cell_id": "00011-5ece2e08-d91c-4239-a4ff-847587c68397",
    "deepnote_to_be_reexecuted": false,
    "source_hash": "6e8d14e8",
    "execution_start": 1643940525898,
    "execution_millis": 1378937,
    "deepnote_cell_type": "code"
   },
   "source": "deck = itertools.product(RANKS, SUITS)\ntotal = 0\nflushes = 0\n\n### BEGIN YOUR SOLUTION\ntotal = 1\n### END YOUR SOLUTION\n\nprint(flushes / total)",
   "execution_count": 6,
   "outputs": [
    {
     "name": "stdout",
     "text": "0.0\n",
     "output_type": "stream"
    }
   ]
  },
  {
   "cell_type": "markdown",
   "source": "## Q2: Monte Carlo Simulation\n\nSometimes there are too many outcomes to iterate over. While a single 5-card hand is relatively simple, a multi-player poker game can have billions of outcomes. Even if you were to group some outcomes based on symmetry, there would still be too many. Some problems, like finding how long it takes to see three heads in a row, have an infinite number of outcomes.\n\nIn these situations, we can still find approximate answers via sampling. For example, to find how long it takes to see three heads in a row, maybe we can just play it out many times and take the average.\n\nTo run this simulation, we need to be able to generate random events. Python's built-in `random` module allows you to do this, but usually we want to use `np.random`. They have more or less the same functionality, but using NumPy will sometimes have a performance advantage.",
   "metadata": {
    "cell_id": "00012-df7971d9-917b-47d1-8e80-9141964c1503",
    "deepnote_cell_type": "markdown"
   }
  },
  {
   "cell_type": "markdown",
   "source": "**In the following cell, use Monte Carlo sampling to calculate how many flips are needed to see three heads in a row.**",
   "metadata": {
    "cell_id": "00013-3311bdfd-e77c-4f8a-97f1-2376e8a73cd4",
    "deepnote_cell_type": "markdown"
   }
  },
  {
   "cell_type": "code",
   "metadata": {
    "cell_id": "00014-1779fea3-d468-4c94-bdc2-f4245ed59467",
    "deepnote_to_be_reexecuted": false,
    "source_hash": "c94441da",
    "execution_start": 1643940525953,
    "execution_millis": 12663,
    "deepnote_cell_type": "code"
   },
   "source": "import numpy as np\n\nTRIALS = 100000\nrunning_sum = 0\nfor _ in range(TRIALS):\n\n    flips = 0\n    nh = 0\n\n    while nh < 3:\n        heads = np.random.randint(2)\n\n        if heads:\n            nh += 1\n        else:\n            nh = 0\n\n        flips += 1\n\n    running_sum += flips\n\n    ### BEGIN YOUR SOLUTION\n    continue\n    ### END YOUR SOLUTION\nprint(running_sum / TRIALS)",
   "execution_count": 7,
   "outputs": [
    {
     "name": "stdout",
     "text": "14.03006\n",
     "output_type": "stream"
    }
   ]
  },
  {
   "cell_type": "markdown",
   "source": "### Q3: Birthday Paradox\n\nHow many people do you think there need to be in a room for two of them to have the same birthday with probability at least 50%? A lot of people say $365 / 2 \\approx 180$, but it turns out the answer is a lot less. We can guess what this answer is using the following strategy.\n\nThe more people there are in the room, the higher the probablity two of them have the same birthday. In other words, the probability is monotonically increasing, and we can binary search on the number of people in the room. For a specific number of people, we can estimate the probability that two have them the same birthday via simulation. ",
   "metadata": {
    "cell_id": "00015-d8f802a3-1d9d-491d-8191-c71b1e9a2b38",
    "deepnote_cell_type": "markdown"
   }
  },
  {
   "cell_type": "markdown",
   "source": "**In the following cell, use Monte Carlo sampling to determine the probability that two people have the same birthday.** You can use `test_same_birthday` to verify the probabilities.",
   "metadata": {
    "cell_id": "00016-1c4cb592-5c73-4c97-b9f7-9c1f7fbffa0f",
    "deepnote_cell_type": "markdown"
   }
  },
  {
   "cell_type": "code",
   "metadata": {
    "cell_id": "00017-a40ee4a0-2bf8-474e-8c3a-a28d306f3398",
    "deepnote_to_be_reexecuted": false,
    "source_hash": "7a26b8e0",
    "execution_start": 1643940538634,
    "execution_millis": 15,
    "deepnote_cell_type": "code"
   },
   "source": "def p_same_birthday(num_people, trials=10000):\n    same_birthday_count = 0\n    ### BEGIN YOUR SOLUTION\n\n    for _ in range(trials):\n        dates = np.random.randint(365, size=num_people)\n        dates, counts = np.unique(dates, return_counts=True)\n        counts = (counts > 1) * counts # remove single bdays\n\n        same_birthday_count += sum(counts) > 0\n\n    \n    ### END YOUR SOLUTION\n    return same_birthday_count / trials",
   "execution_count": 8,
   "outputs": []
  },
  {
   "cell_type": "code",
   "metadata": {
    "cell_id": "00018-f86c361a-e05d-4193-a5ce-5df5476cba63",
    "deepnote_to_be_reexecuted": false,
    "source_hash": "531b073b",
    "execution_start": 1643940538672,
    "execution_millis": 1,
    "deepnote_cell_type": "code"
   },
   "source": "def test_p_same_birthday():\n    assert np.abs(p_same_birthday(10) - 0.11694817771107768) < 0.02\n    assert np.abs(p_same_birthday(40) - 0.891231809817949) < 0.02\n    print('All tests passed')",
   "execution_count": 9,
   "outputs": []
  },
  {
   "cell_type": "code",
   "metadata": {
    "cell_id": "00019-6dd01c61-6e93-4dd4-9805-fb23e9dba99e",
    "deepnote_to_be_reexecuted": false,
    "source_hash": "975e476",
    "execution_start": 1643940538683,
    "execution_millis": 3255,
    "deepnote_output_heights": [
     232,
     232
    ],
    "deepnote_cell_type": "code"
   },
   "source": "test_p_same_birthday()",
   "execution_count": 10,
   "outputs": [
    {
     "name": "stdout",
     "text": "All tests passed\n",
     "output_type": "stream"
    }
   ]
  },
  {
   "cell_type": "markdown",
   "source": "**In the following cell, use binary search to find the first value of `num_people` such that the estimated probability is at least 0.5.**",
   "metadata": {
    "cell_id": "00020-0d71a3e3-5fe4-467e-992f-7c6d8f5e213f",
    "deepnote_cell_type": "markdown"
   }
  },
  {
   "cell_type": "code",
   "metadata": {
    "cell_id": "00021-fb77a153-0781-41ab-a33c-ebbfd2de01d9",
    "deepnote_to_be_reexecuted": false,
    "source_hash": "67c7842f",
    "execution_start": 1643940541981,
    "execution_millis": 1374371,
    "deepnote_cell_type": "code"
   },
   "source": "def binary_search():\n    ### BEGIN YOUR SOLUTION\n    start = 0\n    end = 180\n\n    prev_mid = -1\n\n    while True:\n        mid = (end-start)//2\n        if p_same_birthday(mid) < 0.5:\n            start = mid\n        elif p_same_birthday(mid) > 0.5:\n            end = mid\n\n        if mid == prev_mid:\n            break\n\n        prev_mid = mid\n        print (mid)\n        \n    ### END YOUR SOLUTION",
   "execution_count": 11,
   "outputs": []
  },
  {
   "cell_type": "code",
   "metadata": {
    "cell_id": "00022-9ebec9db-a108-4a4f-a408-a47dbd9ea9ad",
    "deepnote_output_heights": [
     21
    ],
    "deepnote_to_be_reexecuted": false,
    "source_hash": "7adb1b94",
    "execution_start": 1643940541995,
    "execution_millis": 16393,
    "deepnote_cell_type": "code"
   },
   "source": "binary_search()",
   "execution_count": 12,
   "outputs": [
    {
     "name": "stdout",
     "text": "90\n45\n22\n11\n17\n14\n15\n",
     "output_type": "stream"
    }
   ]
  },
  {
   "cell_type": "markdown",
   "source": "## Q4: Tricks\n\nThe message so far has basically been that for simple problems, we can just use brute force, and for harder problems, we can perform sampling. This is mostly true, but there is often an art that comes to both techniques. In many cases, you can exploit symmetries or be clever in other ways. We already did this with the 5-card flush probability: a more naive way would have been to iterate over all $52 \\cdot 51 \\cdot 50 \\cdot 49 \\cdot 48$ ways 5-cards could be dealt. Most \"tricks\" aren't as obvious, but when found, they can greatly speed up your program.\n\nSay we wanted to find the probability a 12-card hand is \"nice\". A hand is nice if it can be arranged in a way that is symmetrical. For 5-card hands, A K K 5 A is nice since it can be arranged into A K 5 K A, whereas 10 10 J Q 10 isn't nice. To find this probability, we could take a similar approach to the flush program, but that would involve going through 206379406870 hands. This isn't feasible, but it turns out some hands are the same, since in this problem, the suit doesn't matter. A hand is really just a tuple with the counts of each rank. For example 10 10 J Q 10 is\n\n2 | 3 | 4 | 5 | 6 | 7 | 8 | 9 | 10 | J | Q | K | A\n- | - | - | - | - | - | - | - | -- | - | - | - | -\n0 | 0 | 0 | 0 | 0 | 0 | 0 | 0 | 3  | 1 | 1 | 0 | 0\n\nAnd the number of unique tuples is far lower. So what we need to do is iterate through all the unique tuples. However, we also need to explicitly find the probability of each tuple, since they are not all the same.",
   "metadata": {
    "cell_id": "00023-d6865d03-13bf-4dd8-bdb5-e69abbbccebe",
    "deepnote_cell_type": "markdown"
   }
  },
  {
   "cell_type": "markdown",
   "source": "**Question: Assume we can still distinguish cards by suit. How many 5-card combinations have 3 10s, 1 J, and 1 Q?**\n\nYOUR ANSWER HERE",
   "metadata": {
    "cell_id": "00024-b161abca-21e2-4232-96a5-a2bd381978da",
    "deepnote_cell_type": "markdown"
   }
  },
  {
   "cell_type": "markdown",
   "source": "We are going to use the unique tuple approach to calculate the probability that a 12-card hand is nice. **Fill out the following function that determines if a tuple represents a hand that is nice**. Your function must be general and work with any hand size (not just 12). You can use `test_is_nice` to verify if your implementation is correct.",
   "metadata": {
    "cell_id": "00025-b7588fd2-9877-4a55-a768-16e90a0783a7",
    "deepnote_cell_type": "markdown"
   }
  },
  {
   "cell_type": "code",
   "metadata": {
    "cell_id": "00026-12981856-a852-4323-89ca-7c1b23655abc",
    "deepnote_to_be_reexecuted": false,
    "source_hash": "fc14c2fa",
    "execution_start": 1643940558421,
    "execution_millis": 1374279,
    "deepnote_cell_type": "code"
   },
   "source": "def is_nice(hand_tuple):\n    assert len(hand_tuple) == 13\n    ### BEGIN YOUR SOLUTION\n\n    hand = np.array(hand_tuple)\n\n    num_cards = sum(hand)\n    num_even = sum(hand % 2 == 0)\n    num_odd = sum(hand % 2 == 1)\n\n    if num_cards % 2 == 0:\n        return num_odd == 0\n    else:\n        return num_odd == 1\n\n    # return False\n    ### END YOUR SOLUTION",
   "execution_count": 13,
   "outputs": []
  },
  {
   "cell_type": "code",
   "metadata": {
    "cell_id": "00027-fc29e3f7-502a-49b2-b809-67a59cc56740",
    "deepnote_to_be_reexecuted": false,
    "source_hash": "304ed615",
    "execution_start": 1643940558443,
    "execution_millis": 1374291,
    "deepnote_cell_type": "code"
   },
   "source": "def test_is_nice():\n    assert is_nice((1, 0, 0, 0, 0, 0, 0, 0, 0, 0, 0, 0, 0))\n    assert is_nice((2, 0, 4, 0, 2, 0, 0, 1, 0, 4, 4, 0, 2))\n    assert is_nice((0, 0, 2, 0, 0, 0, 0, 0, 0, 0, 0, 2, 0))\n    assert not is_nice((2, 0, 3, 0, 2, 0, 0, 1, 0, 4, 4, 0, 2))\n    assert not is_nice((1, 1, 1, 1, 1, 1, 1, 1, 1, 1, 1, 1, 0))\n    print('All tests passed')",
   "execution_count": 14,
   "outputs": []
  },
  {
   "cell_type": "code",
   "metadata": {
    "cell_id": "00028-54efded9-2813-4f3b-922b-f77a1869e5ce",
    "deepnote_to_be_reexecuted": false,
    "source_hash": "c5157c3d",
    "execution_start": 1643940558473,
    "execution_millis": 1374285,
    "deepnote_output_heights": [
     251,
     251
    ],
    "deepnote_cell_type": "code"
   },
   "source": "test_is_nice()",
   "execution_count": 15,
   "outputs": [
    {
     "name": "stdout",
     "text": "All tests passed\n",
     "output_type": "stream"
    }
   ]
  },
  {
   "cell_type": "markdown",
   "source": "Now we need to calculate the probability of a hand_tuple. However, for numerical precision, we may just want to keep track of the total number of card combinations to get a tuple. In the end, we can divide this by the number of possible 12-card hands to find the probability. **Fill in the following function that calculates this**. You can use `test_combinations` to verify your implementation is correct.",
   "metadata": {
    "cell_id": "00029-8f82948e-27d9-4275-9c84-d5f276eaf25a",
    "deepnote_cell_type": "markdown"
   }
  },
  {
   "cell_type": "code",
   "metadata": {
    "cell_id": "00030-c76577bd-13ef-45fa-9fb9-59ffdc66b37d",
    "deepnote_to_be_reexecuted": false,
    "source_hash": "a0ac3da3",
    "execution_start": 1643940558510,
    "execution_millis": 74,
    "deepnote_cell_type": "code"
   },
   "source": "import math\ndef combinations(hand_tuple):\n    assert len(hand_tuple) == 13\n    ### BEGIN YOUR SOLUTION\n\n\n    pos = 1\n    \n    for num in hand_tuple:\n        pos *= np.math.factorial(4) / np.math.factorial(num) / np.math.factorial(4-num)\n\n\n    return pos\n    ### END YOUR SOLUTION",
   "execution_count": 16,
   "outputs": []
  },
  {
   "cell_type": "code",
   "metadata": {
    "cell_id": "00031-0928f342-189b-44c4-817a-6ecf7ba545d3",
    "deepnote_to_be_reexecuted": false,
    "source_hash": "ab39c7c0",
    "execution_start": 1643940558557,
    "execution_millis": 1374289,
    "deepnote_cell_type": "code"
   },
   "source": "def test_combinations():\n    assert combinations((1, 0, 0, 0, 0, 0, 0, 0, 0, 0, 0, 0, 0)) == 4\n    assert combinations((2, 0, 3, 0, 2, 0, 0, 1, 0, 4, 4, 0, 2)) == 3456\n    assert combinations((1, 3, 3, 4, 2, 2, 1, 1, 0, 0, 0, 2, 1)) == 884736\n    print('All tests passed')",
   "execution_count": 17,
   "outputs": []
  },
  {
   "cell_type": "code",
   "metadata": {
    "cell_id": "00032-bb70a0ed-68b2-4e5d-b60a-3547e2bf5f29",
    "deepnote_to_be_reexecuted": false,
    "source_hash": "54986866",
    "execution_start": 1643940558604,
    "execution_millis": 1374250,
    "deepnote_output_heights": [
     385.75
    ],
    "deepnote_cell_type": "code"
   },
   "source": "test_combinations()",
   "execution_count": 18,
   "outputs": [
    {
     "name": "stdout",
     "text": "All tests passed\n",
     "output_type": "stream"
    }
   ]
  },
  {
   "cell_type": "markdown",
   "source": "What remains is to write a Python generator that can iterate through all unique tuples. This is a bit tricky, but can be done with the following idea. We recursively go through each index 0 to 12 in the tuple. At each index, we can decide to add 1 to that index or move onto the next index. We just need to make sure that we only take at most 4 cards from each index and have 12 cards in total.\n\n**Complete the following function**. You can use `test_unique_tuples` to verify your implementation is correct. If you wish, you may also write your own generator from scratch.",
   "metadata": {
    "cell_id": "00033-72bcddd0-4d00-4239-8f4e-b9b8dd9a0502",
    "deepnote_cell_type": "markdown"
   }
  },
  {
   "cell_type": "code",
   "metadata": {
    "cell_id": "00034-35e04869-888b-4a7a-957d-bdd78750d24b",
    "deepnote_to_be_reexecuted": false,
    "source_hash": "3affe24e",
    "execution_start": 1643940558605,
    "execution_millis": 1374288,
    "deepnote_cell_type": "code"
   },
   "source": "def unique_tuples(hand_size):\n    def helper(index, hand_array):\n        num_cards = sum(hand_array)\n        if num_cards == hand_size:\n            yield tuple(hand_array)\n            return\n        if index >= 13:\n            return\n        ### BEGIN YOUR SOLUTION\n\n        if hand_array[index] < 4:\n            alt = hand_array\n            alt[index] += 1\n            yield from helper(index, alt)\n            alt[index] -= 1\n\n        yield from helper(index + 1, hand_array)\n\n        \n        ### END YOUR SOLUTION\n    yield from helper(0, [0 for x in range(13)])",
   "execution_count": 19,
   "outputs": []
  },
  {
   "cell_type": "code",
   "metadata": {
    "cell_id": "00035-91994df7-c7c3-45bb-8955-64d3bafa3594",
    "deepnote_to_be_reexecuted": false,
    "source_hash": "10abb684",
    "execution_start": 1643940558607,
    "execution_millis": 6,
    "deepnote_cell_type": "code"
   },
   "source": "def test_unique_tuples():\n    total_combinations = 0\n    total_tuples = 0\n    for hand_tuple in unique_tuples(6):\n        total_combinations += combinations(hand_tuple)\n        total_tuples += 1\n    print(total_tuples)\n    assert total_tuples == 18395\n    assert total_combinations == 20358520 \n    print('All tests passed')",
   "execution_count": 20,
   "outputs": []
  },
  {
   "cell_type": "code",
   "metadata": {
    "cell_id": "00036-3deddc92-7b13-4add-9ab4-be27122c2da0",
    "deepnote_to_be_reexecuted": false,
    "source_hash": "a848bd2f",
    "execution_start": 1643940558642,
    "execution_millis": 588,
    "deepnote_output_heights": [
     251.4375
    ],
    "deepnote_cell_type": "code"
   },
   "source": "test_unique_tuples()",
   "execution_count": 21,
   "outputs": [
    {
     "name": "stdout",
     "text": "18395\nAll tests passed\n",
     "output_type": "stream"
    }
   ]
  },
  {
   "cell_type": "code",
   "metadata": {
    "cell_id": "00037-0221c659-4313-45c7-99f6-6fefbfd2215b",
    "deepnote_to_be_reexecuted": false,
    "source_hash": "4695730b",
    "execution_start": 1643940559289,
    "execution_millis": 21018,
    "deepnote_output_heights": [
     null,
     328
    ],
    "deepnote_cell_type": "code"
   },
   "source": "TOTAL = 206379406870\ntotal_combinations = 0\nfor hand_tuple in unique_tuples(12):\n    print (total_combinations)\n    if is_nice(hand_tuple):\n        total_combinations += combinations(hand_tuple)\nprint(total_combinations / TOTAL)",
   "execution_count": 22,
   "outputs": [
    {
     "name": "stdout",
     "text": "232149.0\n232149.0\n232149.0\n232149.0\n232149.0\n232149.0\n232149.0\n232149.0\n232149.0\n232149.0\n232149.0\n232149.0\n232149.0\n232149.0\n232149.0\n232149.0\n232149.0\n232149.0\n232149.0\n232149.0\n232149.0\n232149.0\n232149.0\n232149.0\n232149.0\n232149.0\n232149.0\n232149.0\n232149.0\n232149.0\n232149.0\n232149.0\n232149.0\n232185.0\n232185.0\n232185.0\n232185.0\n232185.0\n232185.0\n232185.0\n232185.0\n233481.0\n233481.0\n233481.0\n233481.0\n233481.0\n233481.0\n233481.0\n234777.0\n234777.0\n234777.0\n234777.0\n234777.0\n234777.0\n236073.0\n236073.0\n236073.0\n236073.0\n236073.0\n237369.0\n237369.0\n237369.0\n237369.0\n238665.0\n238665.0\n238665.0\n239961.0\n239961.0\n241257.0\n241257.0\n241257.0\n241257.0\n241257.0\n241257.0\n241257.0\n241257.0\n241257.0\n241257.0\n241257.0\n241257.0\n241257.0\n241257.0\n241257.0\n241257.0\n241257.0\n241257.0\n241257.0\n241257.0\n241257.0\n241257.0\n241257.0\n241257.0\n241257.0\n241257.0\n241257.0\n241257.0\n241257.0\n241257.0\n241257.0\n241257.0\n241257.0\n241257.0\n241257.0\n241257.0\n241257.0\n241257.0\n241257.0\n241257.0\n241257.0\n241257.0\n241257.0\n241257.0\n241257.0\n241257.0\n241257.0\n241257.0\n241257.0\n241257.0\n241257.0\n241257.0\n241257.0\n241257.0\n241257.0\n241257.0\n241257.0\n241257.0\n241257.0\n241257.0\n241257.0\n241257.0\n241257.0\n241257.0\n241257.0\n241257.0\n241257.0\n241257.0\n241257.0\n241257.0\n241257.0\n241257.0\n241257.0\n241257.0\n241257.0\n241257.0\n241257.0\n241257.0\n241257.0\n241257.0\n241257.0\n241257.0\n241257.0\n241257.0\n241257.0\n241293.0\n241293.0\n241293.0\n241293.0\n241293.0\n241293.0\n241293.0\n242589.0\n242589.0\n242589.0\n242589.0\n242589.0\n242589.0\n243885.0\n243885.0\n243885.0\n243885.0\n243885.0\n245181.0\n245181.0\n245181.0\n245181.0\n246477.0\n246477.0\n246477.0\n247773.0\n247773.0\n249069.0\n249069.0\n249069.0\n249069.0\n249069.0\n249069.0\n249069.0\n249069.0\n249069.0\n249069.0\n249069.0\n249069.0\n249069.0\n249069.0\n249069.0\n249069.0\n249069.0\n249069.0\n249069.0\n249069.0\n249069.0\n249069.0\n249069.0\n249069.0\n249069.0\n249069.0\n249069.0\n249069.0\n249069.0\n249069.0\n249069.0\n249069.0\n249069.0\n249069.0\n249069.0\n249069.0\n249069.0\n249069.0\n249069.0\n249069.0\n249069.0\n249069.0\n249069.0\n249069.0\n249069.0\n249069.0\n249069.0\n249069.0\n249069.0\n249069.0\n249069.0\n249069.0\n249069.0\n249069.0\n249069.0\n249069.0\n249069.0\n249105.0\n249105.0\n249105.0\n249105.0\n249105.0\n249105.0\n250401.0\n250401.0\n250401.0\n250401.0\n250401.0\n251697.0\n251697.0\n251697.0\n251697.0\n252993.0\n252993.0\n252993.0\n254289.0\n254289.0\n255585.0\n255585.0\n255585.0\n255585.0\n255585.0\n255585.0\n255585.0\n255585.0\n255585.0\n255585.0\n255585.0\n255585.0\n255585.0\n255585.0\n255585.0\n255585.0\n255585.0\n255585.0\n255585.0\n255585.0\n255585.0\n255585.0\n255585.0\n255585.0\n255585.0\n255585.0\n255585.0\n255585.0\n255585.0\n255585.0\n255585.0\n255585.0\n255585.0\n255585.0\n255585.0\n255585.0\n255621.0\n255621.0\n255621.0\n255621.0\n255621.0\n256917.0\n256917.0\n256917.0\n256917.0\n258213.0\n258213.0\n258213.0\n259509.0\n259509.0\n260805.0\n260805.0\n260805.0\n260805.0\n260805.0\n260805.0\n260805.0\n260805.0\n260805.0\n260805.0\n260805.0\n260805.0\n260805.0\n260805.0\n260805.0\n260805.0\n260805.0\n260805.0\n260805.0\n260805.0\n260805.0\n260841.0\n260841.0\n260841.0\n260841.0\n262137.0\n262137.0\n262137.0\n263433.0\n263433.0\n264729.0\n264729.0\n264729.0\n264729.0\n264729.0\n264729.0\n264729.0\n264729.0\n264729.0\n264729.0\n264729.0\n264765.0\n264765.0\n264765.0\n266061.0\n266061.0\n267357.0\n267357.0\n267357.0\n267357.0\n267357.0\n267393.0\n267393.0\n268689.0\n268689.0\n268725.0\n268725.0\n268725.0\n268725.0\n268725.0\n268725.0\n268725.0\n268725.0\n268725.0\n268725.0\n268725.0\n268725.0\n268725.0\n268725.0\n268725.0\n268725.0\n268725.0\n268725.0\n268725.0\n268725.0\n268725.0\n268725.0\n268725.0\n268725.0\n268725.0\n268725.0\n268725.0\n268725.0\n268725.0\n268725.0\n268725.0\n268725.0\n268725.0\n268725.0\n268725.0\n268725.0\n268725.0\n268725.0\n268725.0\n268725.0\n268725.0\n268725.0\n268725.0\n268725.0\n268725.0\n268725.0\n268725.0\n268725.0\n268725.0\n268725.0\n268725.0\n268725.0\n268725.0\n268725.0\n268725.0\n268725.0\n268725.0\n268725.0\n268725.0\n268725.0\n268725.0\n268725.0\n268725.0\n268725.0\n268725.0\n268725.0\n268725.0\n268725.0\n268725.0\n268725.0\n268725.0\n268725.0\n268725.0\n268725.0\n268725.0\n268725.0\n268725.0\n268725.0\n268725.0\n268725.0\n268725.0\n268725.0\n268725.0\n268725.0\n268725.0\n268725.0\n268725.0\n268725.0\n268725.0\n268725.0\n268725.0\n268725.0\n268725.0\n268725.0\n268725.0\n268725.0\n268725.0\n268725.0\n268725.0\n268725.0\n268725.0\n268725.0\n268725.0\n268725.0\n268725.0\n268725.0\n268725.0\n268725.0\n268725.0\n268725.0\n268725.0\n268725.0\n268725.0\n268725.0\n268725.0\n268725.0\n268725.0\n268725.0\n268725.0\n268725.0\n268725.0\n268725.0\n268725.0\n268725.0\n268725.0\n268725.0\n268725.0\n268725.0\n268725.0\n268725.0\n268725.0\n268725.0\n268725.0\n268725.0\n268725.0\n268725.0\n268725.0\n268725.0\n268725.0\n268725.0\n268725.0\n268725.0\n268725.0\n268725.0\n268725.0\n268725.0\n268725.0\n268725.0\n268725.0\n268725.0\n268725.0\n268725.0\n268725.0\n268725.0\n268725.0\n268725.0\n268725.0\n268725.0\n268725.0\n268725.0\n268725.0\n268725.0\n268725.0\n268725.0\n268725.0\n268725.0\n268725.0\n268725.0\n268725.0\n268725.0\n268725.0\n268725.0\n268725.0\n268725.0\n268725.0\n268725.0\n268725.0\n268725.0\n268725.0\n268725.0\n268725.0\n268725.0\n268725.0\n268725.0\n268725.0\n268725.0\n268725.0\n268725.0\n268725.0\n268725.0\n268725.0\n268725.0\n268725.0\n268725.0\n268725.0\n268725.0\n268725.0\n268725.0\n268725.0\n268725.0\n268725.0\n268725.0\n268725.0\n268725.0\n268725.0\n268725.0\n268725.0\n268725.0\n268725.0\n268725.0\n268725.0\n268725.0\n268725.0\n268725.0\n268725.0\n268725.0\n268725.0\n268725.0\n268725.0\n268725.0\n268725.0\n268725.0\n268725.0\n268725.0\n268725.0\n268725.0\n268725.0\n268725.0\n268725.0\n268725.0\n268725.0\n268725.0\n268725.0\n268725.0\n268725.0\n268725.0\n268725.0\n268725.0\n268725.0\n268725.0\n268725.0\n268725.0\n268725.0\n268725.0\n268725.0\n268725.0\n268725.0\n268725.0\n268725.0\n268725.0\n268725.0\n268725.0\n268725.0\n268725.0\n268725.0\n268725.0\n268725.0\n268725.0\n268725.0\n268725.0\n268725.0\n268725.0\n268725.0\n268725.0\n268725.0\n268725.0\n268725.0\n268725.0\n268725.0\n268725.0\n268725.0\n268725.0\n268725.0\n268725.0\n268725.0\n268725.0\n268725.0\n268725.0\n268725.0\n268725.0\n268725.0\n268725.0\n268725.0\n268725.0\n268725.0\n268725.0\n268725.0\n268725.0\n268725.0\n268725.0\n268725.0\n268725.0\n268725.0\n268725.0\n268725.0\n268725.0\n268725.0\n268725.0\n268725.0\n268725.0\n268725.0\n268725.0\n268725.0\n268725.0\n268725.0\n268725.0\n268725.0\n268725.0\n268725.0\n268725.0\n268725.0\n268725.0\n268725.0\n268725.0\n268725.0\n268725.0\n268725.0\n268725.0\n268725.0\n268725.0\n268725.0\n268725.0\n268725.0\n268725.0\n268725.0\n268725.0\n268725.0\n268725.0\n268725.0\n268725.0\n268725.0\n268725.0\n268725.0\n268725.0\n268725.0\n268725.0\n268725.0\n268725.0\n268725.0\n268725.0\n268725.0\n268725.0\n268725.0\n268725.0\n268725.0\n268725.0\n268725.0\n268725.0\n268725.0\n268725.0\n268725.0\n268725.0\n268725.0\n268725.0\n268725.0\n268725.0\n268725.0\n268725.0\n268725.0\n268725.0\n268725.0\n268725.0\n268725.0\n268725.0\n268725.0\n268725.0\n268725.0\n268725.0\n268725.0\n268725.0\n268725.0\n268725.0\n268725.0\n268725.0\n268725.0\n268725.0\n268725.0\n268725.0\n268725.0\n268725.0\n268725.0\n268725.0\n268725.0\n268725.0\n268725.0\n268725.0\n268725.0\n268725.0\n268725.0\n268725.0\n268725.0\n268725.0\n268725.0\n268725.0\n268725.0\n268725.0\n268725.0\n268725.0\n268725.0\n268725.0\n268725.0\n268725.0\n268725.0\n268725.0\n268725.0\n268725.0\n268725.0\n268725.0\n268725.0\n268725.0\n268725.0\n268725.0\n268725.0\n268725.0\n268725.0\n268725.0\n268725.0\n268725.0\n268725.0\n268725.0\n268725.0\n268725.0\n268725.0\n268725.0\n268725.0\n268725.0\n268725.0\n268725.0\n268725.0\n268725.0\n268725.0\n268725.0\n268725.0\n268725.0\n268725.0\n268725.0\n268725.0\n268725.0\n268725.0\n268725.0\n268725.0\n268725.0\n268725.0\n268725.0\n268725.0\n268725.0\n268725.0\n268725.0\n268725.0\n268725.0\n268725.0\n268725.0\n268725.0\n268725.0\n268725.0\n268725.0\n268725.0\n268725.0\n268725.0\n268725.0\n268725.0\n268725.0\n268725.0\n268725.0\n268725.0\n268725.0\n268725.0\n268725.0\n268725.0\n268725.0\n268725.0\n268725.0\n268725.0\n268725.0\n268725.0\n268725.0\n268725.0\n268725.0\n268725.0\n268725.0\n268725.0\n268725.0\n268725.0\n268725.0\n268725.0\n268725.0\n268725.0\n268725.0\n268725.0\n268725.0\n268725.0\n268725.0\n268725.0\n268725.0\n268725.0\n268725.0\n268725.0\n268725.0\n268725.0\n268725.0\n268725.0\n268725.0\n268725.0\n268725.0\n268725.0\n268725.0\n268725.0\n268725.0\n268725.0\n268725.0\n268725.0\n268725.0\n268725.0\n268725.0\n268725.0\n268725.0\n268725.0\n268725.0\n268725.0\n268725.0\n268725.0\n268725.0\n268725.0\n268725.0\n268725.0\n268725.0\n268725.0\n268725.0\n268725.0\n268725.0\n268725.0\n268725.0\n268725.0\n268725.0\n268725.0\n268725.0\n268725.0\n268725.0\n268725.0\n268725.0\n268725.0\n268725.0\n268725.0\n268725.0\n268725.0\n268725.0\n268725.0\n268725.0\n268725.0\n268725.0\n268725.0\n268725.0\n268725.0\n268725.0\n268725.0\n268725.0\n268725.0\n268725.0\n268725.0\n268725.0\n268725.0\n268725.0\n268725.0\n268725.0\n268725.0\n268725.0\n268725.0\n268725.0\n268725.0\n268725.0\n268725.0\n268725.0\n268725.0\n268725.0\n268725.0\n268725.0\n268725.0\n268725.0\n268725.0\n268725.0\n268725.0\n268725.0\n268725.0\n268725.0\n268725.0\n268725.0\n268725.0\n268725.0\n268725.0\n268725.0\n268725.0\n268725.0\n268725.0\n268725.0\n268725.0\n268725.0\n268725.0\n268725.0\n268725.0\n268725.0\n268725.0\n268725.0\n268725.0\n268725.0\n268725.0\n268725.0\n268725.0\n268725.0\n268725.0\n268725.0\n268725.0\n268725.0\n268725.0\n268725.0\n268725.0\n268725.0\n268725.0\n268725.0\n268725.0\n268725.0\n268725.0\n268725.0\n268725.0\n268725.0\n268725.0\n268725.0\n268725.0\n268725.0\n268725.0\n268725.0\n268725.0\n268725.0\n268725.0\n268725.0\n268725.0\n268725.0\n268725.0\n",
     "output_type": "stream"
    },
    {
     "output_type": "error",
     "ename": "KeyboardInterrupt",
     "evalue": "",
     "traceback": [
      "\u001b[0;31m---------------------------------------------------------------------------\u001b[0m",
      "\u001b[0;31mKeyboardInterrupt\u001b[0m                         Traceback (most recent call last)",
      "\u001b[0;32m<ipython-input-22-704d8a6808e5>\u001b[0m in \u001b[0;36m<module>\u001b[0;34m\u001b[0m\n\u001b[1;32m      3\u001b[0m \u001b[0;32mfor\u001b[0m \u001b[0mhand_tuple\u001b[0m \u001b[0;32min\u001b[0m \u001b[0munique_tuples\u001b[0m\u001b[0;34m(\u001b[0m\u001b[0;36m12\u001b[0m\u001b[0;34m)\u001b[0m\u001b[0;34m:\u001b[0m\u001b[0;34m\u001b[0m\u001b[0;34m\u001b[0m\u001b[0m\n\u001b[1;32m      4\u001b[0m     \u001b[0mprint\u001b[0m \u001b[0;34m(\u001b[0m\u001b[0mtotal_combinations\u001b[0m\u001b[0;34m)\u001b[0m\u001b[0;34m\u001b[0m\u001b[0;34m\u001b[0m\u001b[0m\n\u001b[0;32m----> 5\u001b[0;31m     \u001b[0;32mif\u001b[0m \u001b[0mis_nice\u001b[0m\u001b[0;34m(\u001b[0m\u001b[0mhand_tuple\u001b[0m\u001b[0;34m)\u001b[0m\u001b[0;34m:\u001b[0m\u001b[0;34m\u001b[0m\u001b[0;34m\u001b[0m\u001b[0m\n\u001b[0m\u001b[1;32m      6\u001b[0m         \u001b[0mtotal_combinations\u001b[0m \u001b[0;34m+=\u001b[0m \u001b[0mcombinations\u001b[0m\u001b[0;34m(\u001b[0m\u001b[0mhand_tuple\u001b[0m\u001b[0;34m)\u001b[0m\u001b[0;34m\u001b[0m\u001b[0;34m\u001b[0m\u001b[0m\n\u001b[1;32m      7\u001b[0m \u001b[0mprint\u001b[0m\u001b[0;34m(\u001b[0m\u001b[0mtotal_combinations\u001b[0m \u001b[0;34m/\u001b[0m \u001b[0mTOTAL\u001b[0m\u001b[0;34m)\u001b[0m\u001b[0;34m\u001b[0m\u001b[0;34m\u001b[0m\u001b[0m\n",
      "\u001b[0;32m<ipython-input-13-c2a2599dd90e>\u001b[0m in \u001b[0;36mis_nice\u001b[0;34m(hand_tuple)\u001b[0m\n\u001b[1;32m      7\u001b[0m     \u001b[0mnum_cards\u001b[0m \u001b[0;34m=\u001b[0m \u001b[0msum\u001b[0m\u001b[0;34m(\u001b[0m\u001b[0mhand\u001b[0m\u001b[0;34m)\u001b[0m\u001b[0;34m\u001b[0m\u001b[0;34m\u001b[0m\u001b[0m\n\u001b[1;32m      8\u001b[0m     \u001b[0mnum_even\u001b[0m \u001b[0;34m=\u001b[0m \u001b[0msum\u001b[0m\u001b[0;34m(\u001b[0m\u001b[0mhand\u001b[0m \u001b[0;34m%\u001b[0m \u001b[0;36m2\u001b[0m \u001b[0;34m==\u001b[0m \u001b[0;36m0\u001b[0m\u001b[0;34m)\u001b[0m\u001b[0;34m\u001b[0m\u001b[0;34m\u001b[0m\u001b[0m\n\u001b[0;32m----> 9\u001b[0;31m     \u001b[0mnum_odd\u001b[0m \u001b[0;34m=\u001b[0m \u001b[0msum\u001b[0m\u001b[0;34m(\u001b[0m\u001b[0mhand\u001b[0m \u001b[0;34m%\u001b[0m \u001b[0;36m2\u001b[0m \u001b[0;34m==\u001b[0m \u001b[0;36m1\u001b[0m\u001b[0;34m)\u001b[0m\u001b[0;34m\u001b[0m\u001b[0;34m\u001b[0m\u001b[0m\n\u001b[0m\u001b[1;32m     10\u001b[0m \u001b[0;34m\u001b[0m\u001b[0m\n\u001b[1;32m     11\u001b[0m     \u001b[0;32mif\u001b[0m \u001b[0mnum_cards\u001b[0m \u001b[0;34m%\u001b[0m \u001b[0;36m2\u001b[0m \u001b[0;34m==\u001b[0m \u001b[0;36m0\u001b[0m\u001b[0;34m:\u001b[0m\u001b[0;34m\u001b[0m\u001b[0;34m\u001b[0m\u001b[0m\n",
      "\u001b[0;31mKeyboardInterrupt\u001b[0m: "
     ]
    }
   ]
  },
  {
   "cell_type": "code",
   "metadata": {
    "cell_id": "00038-9a752c65-8866-4ba1-b8e6-be78b95c9b18",
    "deepnote_to_be_reexecuted": true,
    "source_hash": "b623e53d",
    "deepnote_cell_type": "code"
   },
   "source": "",
   "execution_count": null,
   "outputs": []
  },
  {
   "cell_type": "markdown",
   "source": "<a style='text-decoration:none;line-height:16px;display:flex;color:#5B5B62;padding:10px;justify-content:end;' href='https://deepnote.com?utm_source=created-in-deepnote-cell&projectId=689c629a-8a71-4920-b171-415d33c91843' target=\"_blank\">\n<img alt='Created in deepnote.com' style='display:inline;max-height:16px;margin:0px;margin-right:7.5px;' src='data:image/svg+xml;base64,PD94bWwgdmVyc2lvbj0iMS4wIiBlbmNvZGluZz0iVVRGLTgiPz4KPHN2ZyB3aWR0aD0iODBweCIgaGVpZ2h0PSI4MHB4IiB2aWV3Qm94PSIwIDAgODAgODAiIHZlcnNpb249IjEuMSIgeG1sbnM9Imh0dHA6Ly93d3cudzMub3JnLzIwMDAvc3ZnIiB4bWxuczp4bGluaz0iaHR0cDovL3d3dy53My5vcmcvMTk5OS94bGluayI+CiAgICA8IS0tIEdlbmVyYXRvcjogU2tldGNoIDU0LjEgKDc2NDkwKSAtIGh0dHBzOi8vc2tldGNoYXBwLmNvbSAtLT4KICAgIDx0aXRsZT5Hcm91cCAzPC90aXRsZT4KICAgIDxkZXNjPkNyZWF0ZWQgd2l0aCBTa2V0Y2guPC9kZXNjPgogICAgPGcgaWQ9IkxhbmRpbmciIHN0cm9rZT0ibm9uZSIgc3Ryb2tlLXdpZHRoPSIxIiBmaWxsPSJub25lIiBmaWxsLXJ1bGU9ImV2ZW5vZGQiPgogICAgICAgIDxnIGlkPSJBcnRib2FyZCIgdHJhbnNmb3JtPSJ0cmFuc2xhdGUoLTEyMzUuMDAwMDAwLCAtNzkuMDAwMDAwKSI+CiAgICAgICAgICAgIDxnIGlkPSJHcm91cC0zIiB0cmFuc2Zvcm09InRyYW5zbGF0ZSgxMjM1LjAwMDAwMCwgNzkuMDAwMDAwKSI+CiAgICAgICAgICAgICAgICA8cG9seWdvbiBpZD0iUGF0aC0yMCIgZmlsbD0iIzAyNjVCNCIgcG9pbnRzPSIyLjM3NjIzNzYyIDgwIDM4LjA0NzY2NjcgODAgNTcuODIxNzgyMiA3My44MDU3NTkyIDU3LjgyMTc4MjIgMzIuNzU5MjczOSAzOS4xNDAyMjc4IDMxLjY4MzE2ODMiPjwvcG9seWdvbj4KICAgICAgICAgICAgICAgIDxwYXRoIGQ9Ik0zNS4wMDc3MTgsODAgQzQyLjkwNjIwMDcsNzYuNDU0OTM1OCA0Ny41NjQ5MTY3LDcxLjU0MjI2NzEgNDguOTgzODY2LDY1LjI2MTk5MzkgQzUxLjExMjI4OTksNTUuODQxNTg0MiA0MS42NzcxNzk1LDQ5LjIxMjIyODQgMjUuNjIzOTg0Niw0OS4yMTIyMjg0IEMyNS40ODQ5Mjg5LDQ5LjEyNjg0NDggMjkuODI2MTI5Niw0My4yODM4MjQ4IDM4LjY0NzU4NjksMzEuNjgzMTY4MyBMNzIuODcxMjg3MSwzMi41NTQ0MjUgTDY1LjI4MDk3Myw2Ny42NzYzNDIxIEw1MS4xMTIyODk5LDc3LjM3NjE0NCBMMzUuMDA3NzE4LDgwIFoiIGlkPSJQYXRoLTIyIiBmaWxsPSIjMDAyODY4Ij48L3BhdGg+CiAgICAgICAgICAgICAgICA8cGF0aCBkPSJNMCwzNy43MzA0NDA1IEwyNy4xMTQ1MzcsMC4yNTcxMTE0MzYgQzYyLjM3MTUxMjMsLTEuOTkwNzE3MDEgODAsMTAuNTAwMzkyNyA4MCwzNy43MzA0NDA1IEM4MCw2NC45NjA0ODgyIDY0Ljc3NjUwMzgsNzkuMDUwMzQxNCAzNC4zMjk1MTEzLDgwIEM0Ny4wNTUzNDg5LDc3LjU2NzA4MDggNTMuNDE4MjY3Nyw3MC4zMTM2MTAzIDUzLjQxODI2NzcsNTguMjM5NTg4NSBDNTMuNDE4MjY3Nyw0MC4xMjg1NTU3IDM2LjMwMzk1NDQsMzcuNzMwNDQwNSAyNS4yMjc0MTcsMzcuNzMwNDQwNSBDMTcuODQzMDU4NiwzNy43MzA0NDA1IDkuNDMzOTE5NjYsMzcuNzMwNDQwNSAwLDM3LjczMDQ0MDUgWiIgaWQ9IlBhdGgtMTkiIGZpbGw9IiMzNzkzRUYiPjwvcGF0aD4KICAgICAgICAgICAgPC9nPgogICAgICAgIDwvZz4KICAgIDwvZz4KPC9zdmc+' > </img>\nCreated in <span style='font-weight:600;margin-left:4px;'>Deepnote</span></a>",
   "metadata": {
    "tags": [],
    "created_in_deepnote_cell": true,
    "deepnote_cell_type": "markdown"
   }
  }
 ],
 "nbformat": 4,
 "nbformat_minor": 4,
 "metadata": {
  "kernelspec": {
   "display_name": "Python 3",
   "language": "python",
   "name": "python3"
  },
  "language_info": {
   "codemirror_mode": {
    "name": "ipython",
    "version": 3
   },
   "file_extension": ".py",
   "mimetype": "text/x-python",
   "name": "python",
   "nbconvert_exporter": "python",
   "pygments_lexer": "ipython3",
   "version": "3.7.7"
  },
  "deepnote_notebook_id": "0da9dad1-691e-4805-9f4f-9f21fe72c2ba",
  "deepnote": {},
  "deepnote_execution_queue": []
 }
}