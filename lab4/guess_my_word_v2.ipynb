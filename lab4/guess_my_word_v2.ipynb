{
 "cells": [
  {
   "cell_type": "markdown",
   "source": "# Guess My Word\n\n#### Authors:\nv1.0 (Spring 2020) William Gan, Kannan Ramchandran\n\nv2.0 (Spring 2022) Andy Dong",
   "metadata": {
    "cell_id": "70a34480-4375-4526-b1fe-b5d3738b08aa",
    "deepnote_cell_type": "markdown"
   }
  },
  {
   "cell_type": "markdown",
   "source": "## Introduction\n\nIn Guess My Word http://hryanjones.com/guess-my-word/, your goal is to make guesses at a secret word that the computer has generated. After each guess, the game tells you whether your guess is before or after the secret word lexicographically. Being bad at it, Andy wants to write a program to solve the problem optimally. In this lab, you'll explore a couple ideas he has and help him write the program.",
   "metadata": {
    "cell_id": "00001-a79b402b-5ba5-402f-ae0f-723a3845cff6",
    "deepnote_cell_type": "markdown"
   }
  },
  {
   "cell_type": "code",
   "metadata": {
    "cell_id": "00002-4be0bf1f-6972-4a84-8edd-21e51bf8c790",
    "deepnote_to_be_reexecuted": false,
    "source_hash": "21e32291",
    "execution_start": 1646361139716,
    "execution_millis": 1,
    "deepnote_cell_type": "code"
   },
   "source": "import matplotlib.pyplot as plt\nimport numpy as np",
   "execution_count": 2,
   "outputs": []
  },
  {
   "cell_type": "markdown",
   "source": "## Modeling the Game\n\nSuppose we have obtained a list of the words used in the game. Each word has a count that represents relatively how often it appears in the English language. Suppose the secret word is chosen proportionally to this count. The code in the cells below simulates the game. There are a few things to note:\n\n- The count is proportional to the probability that each word is chosen, and will be the probability distribution when normalized (that is, when divided by the sum of all counts).\n- In this version of the game, we're assuming guesses are only allowed to come from the list of possible words used.\n- We're also assuming that you aren't told the secret word if you guess it correctly. If your guess matches the secret word, the game will tell you that the secret word is lexicographically after your guess. You have to deduce it yourself.",
   "metadata": {
    "cell_id": "00003-334c4f79-8968-4157-bd50-501fa58d5eb7",
    "deepnote_cell_type": "markdown"
   }
  },
  {
   "cell_type": "code",
   "metadata": {
    "cell_id": "00004-46e5e3c7-a3fd-415a-ab42-cde5c166e1b2",
    "deepnote_to_be_reexecuted": false,
    "source_hash": "e8de61f9",
    "execution_start": 1646361140625,
    "execution_millis": 12,
    "deepnote_cell_type": "code"
   },
   "source": "from words import WORD_COUNT",
   "execution_count": 3,
   "outputs": []
  },
  {
   "cell_type": "code",
   "metadata": {
    "cell_id": "00005-9602c3b6-8cf1-4a53-837a-6b58f850c973",
    "deepnote_to_be_reexecuted": false,
    "source_hash": "ba5a3057",
    "execution_start": 1646361142064,
    "execution_millis": 4,
    "deepnote_cell_type": "code"
   },
   "source": "type(WORD_COUNT)",
   "execution_count": 4,
   "outputs": [
    {
     "output_type": "execute_result",
     "execution_count": 4,
     "data": {
      "text/plain": "dict"
     },
     "metadata": {}
    }
   ]
  },
  {
   "cell_type": "code",
   "metadata": {
    "cell_id": "00006-b6509a83-117c-45eb-8b55-c81b8f9a8f8c",
    "deepnote_to_be_reexecuted": false,
    "source_hash": "138d335f",
    "execution_start": 1646361143222,
    "execution_millis": 4,
    "deepnote_cell_type": "code"
   },
   "source": "total_count = sum(WORD_COUNT.values())\nsorted_words = sorted(list(WORD_COUNT))\nsorted_word_counts = np.array([WORD_COUNT[w] for w in sorted_words])\ncumulative_counts = np.cumsum(sorted_word_counts)",
   "execution_count": 5,
   "outputs": []
  },
  {
   "cell_type": "code",
   "metadata": {
    "cell_id": "00007-f182482b-cc73-46a3-9a8f-9f51f9a2f9d5",
    "deepnote_to_be_reexecuted": false,
    "source_hash": "46ccc288",
    "execution_start": 1646361146239,
    "execution_millis": 11,
    "deepnote_cell_type": "code"
   },
   "source": "print(f'Total count: {total_count}')\nprint('First 10 sorted words:', *sorted_words[:10])\nprint(f'Counts associated with these words: {list(sorted_word_counts[:10])}')\nprint(f'Cumulative counts associated with these words: {list(cumulative_counts[:10])}')",
   "execution_count": 6,
   "outputs": [
    {
     "name": "stdout",
     "text": "Total count: 37009\nFirst 10 sorted words: abstain accept across action active adhere afraid against alive allegory\nCounts associated with these words: [2, 24, 111, 122, 23, 1, 116, 221, 16, 1]\nCumulative counts associated with these words: [2, 26, 137, 259, 282, 283, 399, 620, 636, 637]\n",
     "output_type": "stream"
    }
   ]
  },
  {
   "cell_type": "markdown",
   "source": "The following function uses binary search to find the word associated with an index ranging from $0$ to total_count minus $1$. For example, `binary_search_word_generation(126)` will return the third word, \"across\". Take a minute to convince yourself why before moving on.",
   "metadata": {
    "cell_id": "00008-41aaab63-7d27-4c12-b307-6e97872498f2",
    "deepnote_cell_type": "markdown"
   }
  },
  {
   "cell_type": "code",
   "metadata": {
    "cell_id": "00009-d6217792-c52b-4a30-a55b-5b3b77d7f72a",
    "deepnote_to_be_reexecuted": false,
    "source_hash": "5758e1a5",
    "execution_start": 1646361148231,
    "execution_millis": 11,
    "deepnote_cell_type": "code"
   },
   "source": "def binary_search_word_generation(index):\n    assert 0 <= index < total_count\n    low, high = 0, len(sorted_words) - 1\n    while low < high:\n        mid = (low + high) // 2\n        if cumulative_counts[mid] > index:\n            high = mid\n        else:\n            low = mid + 1\n    return sorted_words[low]",
   "execution_count": 7,
   "outputs": []
  },
  {
   "cell_type": "code",
   "metadata": {
    "cell_id": "00010-dfe3b60a-7d5c-43cf-a32a-bf1c99779ec1",
    "deepnote_to_be_reexecuted": false,
    "source_hash": "71bed7b",
    "execution_start": 1646361149685,
    "execution_millis": 8,
    "deepnote_cell_type": "code"
   },
   "source": "binary_search_word_generation(126)",
   "execution_count": 8,
   "outputs": [
    {
     "output_type": "execute_result",
     "execution_count": 8,
     "data": {
      "text/plain": "'across'"
     },
     "metadata": {}
    }
   ]
  },
  {
   "cell_type": "markdown",
   "source": "**In the following cell, implement `generate_secret_word` using `binary_search_word_generation`.**",
   "metadata": {
    "cell_id": "00011-34e11af8-d0eb-42d1-bc92-ca25dec8ca9d",
    "deepnote_cell_type": "markdown"
   }
  },
  {
   "cell_type": "code",
   "metadata": {
    "cell_id": "00012-9204397c-aa3a-4b5a-9174-664be6cf23e8",
    "deepnote_to_be_reexecuted": false,
    "source_hash": "47ba2ba0",
    "execution_start": 1646361218725,
    "execution_millis": 4,
    "deepnote_cell_type": "code"
   },
   "source": "def generate_secret_word():\n    # BEGIN YOUR SOLUTION\n    i = np.random.randint(total_count)\n    return binary_search_word_generation(i)\n    # END YOUR SOLUTION",
   "execution_count": 9,
   "outputs": []
  },
  {
   "cell_type": "markdown",
   "source": "This cell creates a game by generating a secret word and returning `guess_function`, which is a function that returns True if the guess is lexicographically \"less than\" the secret word, and False otherwise.",
   "metadata": {
    "cell_id": "00013-3d0156c5-57d9-4279-b2e8-949c3da66a56",
    "deepnote_cell_type": "markdown"
   }
  },
  {
   "cell_type": "code",
   "metadata": {
    "cell_id": "00014-96382905-b48e-46f5-9902-604d09f320c4",
    "deepnote_to_be_reexecuted": false,
    "source_hash": "94ff798",
    "execution_start": 1646361221258,
    "execution_millis": 1,
    "deepnote_cell_type": "code"
   },
   "source": "def create_game(secret_word):\n    def guess_function(guess):\n        assert guess in WORD_COUNT\n        return guess < secret_word\n    return guess_function",
   "execution_count": 10,
   "outputs": []
  },
  {
   "cell_type": "markdown",
   "source": "## Binary Search Idea\n\nThe first idea is to ignore the counts and perform binary search on the possible words. In the cell below, `binary_search_game` receives a `guess_function` which was created by a call to `create_game`. Your code should use this `guess_function` to deduce what the secret word is, as well as keep track of how many guesses it took. **In the cell below, write code that returns the deduced secret word and number of guesses required**.  \n\n*Hint: If you want help implementing binary search, you could model it off of `binary_search_word_generation`.*",
   "metadata": {
    "cell_id": "00015-eeebdbac-02ad-4231-a354-912ae8487965",
    "deepnote_cell_type": "markdown"
   }
  },
  {
   "cell_type": "code",
   "metadata": {
    "cell_id": "00016-e5db47de-db47-4aac-9e01-9e865509697b",
    "deepnote_to_be_reexecuted": false,
    "source_hash": "a3d9cdc0",
    "execution_start": 1646366516191,
    "execution_millis": 4,
    "deepnote_cell_type": "code"
   },
   "source": "def binary_search_game(guess_function):\n    guesses = 0\n    deduced_word = None\n    # BEGIN YOUR SOLUTION\n\n    min_ = 0\n    max_ = len(sorted_words)-1\n\n    guesses = 0\n    while max_-min_ >= 1:\n        guesses += 1\n\n        guess = (max_-min_)//2 + min_\n\n        word = sorted_words[guess]\n\n        if guess_function(word):\n            min_ = guess+1\n        else:\n            max_ = guess\n\n    if not guess_function(sorted_words[min_]):\n        return sorted_words[min_], guesses\n\n    return sorted_words[min_+1], guesses\n    \n    # END YOUR SOLUTION\n    # return deduced_word, guesses",
   "execution_count": 163,
   "outputs": []
  },
  {
   "cell_type": "markdown",
   "source": "Use the following function to test your code. **While your implementation may not get the exact same number of guesses, it should take 9 or 10 guesses**. **It should also be deducing the correct word.**",
   "metadata": {
    "cell_id": "00017-6ca9604c-4791-4ae1-8110-e0877a361796",
    "deepnote_cell_type": "markdown"
   }
  },
  {
   "cell_type": "code",
   "metadata": {
    "cell_id": "00018-b96d99e3-ab2d-4bb1-9c2d-576d7be61dba",
    "deepnote_to_be_reexecuted": false,
    "source_hash": "bd6b0eda",
    "execution_start": 1646366517002,
    "execution_millis": 6,
    "deepnote_cell_type": "code"
   },
   "source": "def test_binary_search_game():\n    '''Sanity checks for binary_search_game.'''\n    words = ['find', 'time', 'great', 'anyone', 'lying']\n    return [binary_search_game(create_game(w)) for w in words]",
   "execution_count": 164,
   "outputs": []
  },
  {
   "cell_type": "code",
   "metadata": {
    "cell_id": "00019-987bf4e9-f015-422c-960a-1e08f27acdb5",
    "deepnote_to_be_reexecuted": false,
    "source_hash": "ae03acaa",
    "execution_start": 1646366517170,
    "execution_millis": 140,
    "deepnote_cell_type": "code"
   },
   "source": "print('Staff solution:', [('find', 10), ('time', 10), ('great', 10), ('anyone', 10), ('lying', 9)])\nprint('Your solution: ', test_binary_search_game())",
   "execution_count": 165,
   "outputs": [
    {
     "name": "stdout",
     "text": "Staff solution: [('find', 10), ('time', 10), ('great', 10), ('anyone', 10), ('lying', 9)]\nYour solution:  [('find', 10), ('time', 10), ('great', 10), ('anyone', 10), ('lying', 9)]\n",
     "output_type": "stream"
    }
   ]
  },
  {
   "cell_type": "markdown",
   "source": "## Huffman Coding Idea\n\nThe second idea takes the counts into consideration and is similar to [Huffman Coding](https://en.wikipedia.org/wiki/Huffman_coding).\n\nIt works as follows:\n\n1. Sort all the words in alphabetical order in a list, and generate a wrapper `HuffmanNode` for each word.\n2. Go through all consecutive pairs of nodes. For each pair, consider the sum of the two counts. Find the pair whose sum is minimal.\n3. Combine those two nodes into a new node, and make their sum the new count. The node's left child will be the first node in the pair and the node's right child will be the second node in the pair.\n4. Replace the two node with the new node in the list at the same position.\n5. Go back to step 1, and repeat until there's only one node left. Let it be the root of the Huffman tree.\n\nWhen creating new nodes, we also need to set `rightmost_word`. It'll be useful when we try to guess the secret word, which works as follows.\n\n1. Set the current node to the root.\n2. Guess the `rightmost_word` of the current node's left child.\n3. If this is before the secret word, then the secret word must be in the right child. Otherwise, it's in the left child. Take a moment to think about why.\n4. Go back to step 2. Repeat until we've reached a leaf in this tree, which will contain the secret word.",
   "metadata": {
    "cell_id": "00020-97b1ebcc-e5fc-45b1-a247-cb210cbf002e",
    "deepnote_cell_type": "markdown"
   }
  },
  {
   "cell_type": "markdown",
   "source": "**Question:** Why is it important that when generating the Huffman tree, we put the new node at the same position as the original nodes, instead of adding it to an arbitrary place in the list?",
   "metadata": {
    "cell_id": "00021-549a1903-57a2-4b11-9c43-b0111ac359da",
    "deepnote_cell_type": "markdown"
   }
  },
  {
   "cell_type": "markdown",
   "source": "**Answer:**",
   "metadata": {
    "cell_id": "00022-58cb6db8-64cc-4f7d-9f91-b26cf1652dd8",
    "deepnote_cell_type": "markdown"
   }
  },
  {
   "cell_type": "code",
   "metadata": {
    "cell_id": "00023-d9cf0cff-7e01-49ec-bc07-5ac3cbf8846d",
    "deepnote_to_be_reexecuted": false,
    "source_hash": "dfa35f04",
    "execution_start": 1646366519612,
    "execution_millis": 4,
    "deepnote_cell_type": "code"
   },
   "source": "class HuffmanNode:\n    def __init__(self, count, word=None):\n        self.count = count  # The total count of the words in our own subtree.\n        self.word = word  # The will be null in non-leaf nodes.\n        self.rightmost_word = word  # The rightmost word in our own subtree.\n        self.left_subtree = None  # Our children nodes\n        self.right_subtree = None  # Our children nodes",
   "execution_count": 166,
   "outputs": []
  },
  {
   "cell_type": "markdown",
   "source": "**In the following cell, fill code to generate the HuffmanTree.**",
   "metadata": {
    "cell_id": "00024-e521f9ec-9d7d-4dfd-8c0d-b1057c1e7904",
    "deepnote_cell_type": "markdown"
   }
  },
  {
   "cell_type": "code",
   "metadata": {
    "cell_id": "00025-30915848-0ad2-46c3-a7db-f4e0c6810483",
    "deepnote_to_be_reexecuted": false,
    "source_hash": "c6c26000",
    "execution_start": 1646366521231,
    "execution_millis": 3,
    "deepnote_cell_type": "code"
   },
   "source": "def build_huffman_tree():\n    sorted_words = sorted(list(WORD_COUNT))\n    nodes = [HuffmanNode(WORD_COUNT[w], w) for w in sorted_words]\n    # Will need to combine two nodes len(WORD_COUNT) - 1 times.\n    for i in range(len(WORD_COUNT) - 1):\n        min_node_idx = None\n        min_count = None\n        # Choose the consecutive pair of nodes with smallest sum of counts to combine\n        for j in range(0, len(nodes) - 1):\n            count = nodes[j].count + nodes[j+1].count\n            if min_count is None or count < min_count:\n                min_node_idx = j\n                min_count = count\n        new_node = HuffmanNode(min_count)\n        # Setup the new node and then replace the current two nodes in the list\n        # with the new node.\n        # BEGIN YOUR SOLUTION\n\n        new_node.left_subtree = nodes[min_node_idx]\n        new_node.right_subtree = nodes[min_node_idx+1]\n        new_node.rightmost_word = new_node.right_subtree.rightmost_word\n\n        nodes[min_node_idx] = new_node\n        nodes.pop(min_node_idx+1)\n        \n        # END YOUR SOLUTION\n    return nodes[0]",
   "execution_count": 167,
   "outputs": []
  },
  {
   "cell_type": "markdown",
   "source": "**In the cell below, write code that plays a game with the HuffmanTree and returns the deduced word and number of guesses.**\n",
   "metadata": {
    "cell_id": "00026-68768820-8caf-488a-a71c-d53dca1851ff",
    "deepnote_cell_type": "markdown"
   }
  },
  {
   "cell_type": "code",
   "metadata": {
    "cell_id": "00027-65a272c3-5682-4bb5-a296-a47f2870f534",
    "deepnote_to_be_reexecuted": false,
    "source_hash": "e6163d97",
    "execution_start": 1646366522583,
    "execution_millis": 114,
    "deepnote_cell_type": "code"
   },
   "source": "root = build_huffman_tree()\n\ndef huffman_game(guess_function):\n    guesses = 0\n    deduced_word = None\n    # BEGIN YOUR SOLUTION\n    global root\n    tree = root\n\n    while not tree.word:\n        guesses += 1\n\n        if guess_function(tree.left_subtree.rightmost_word):\n            tree = tree.right_subtree\n        else:\n            tree = tree.left_subtree\n\n    deduced_word = tree.word\n    \n    # END YOUR SOLUTION\n    return deduced_word, guesses",
   "execution_count": 168,
   "outputs": []
  },
  {
   "cell_type": "markdown",
   "source": "Use the following function to test your code. **Your implementation should get the same number of guesses as the staff solution, and it should be deducing the correct word.**",
   "metadata": {
    "cell_id": "00028-57411b5a-2347-4c91-99c5-4eaaa0db373f",
    "deepnote_cell_type": "markdown"
   }
  },
  {
   "cell_type": "code",
   "metadata": {
    "cell_id": "00029-2fce6b9e-5884-4750-a0e9-f596e2d832e5",
    "deepnote_to_be_reexecuted": false,
    "source_hash": "37a0e4d6",
    "execution_start": 1646366523237,
    "execution_millis": 0,
    "deepnote_cell_type": "code"
   },
   "source": "def test_huffman_game():\n    '''Sanity checks for huffman_game.\n    \n    The number of guesses may not be less than binary search for particular\n    examples.\n    '''\n    words = ['find', 'time', 'great', 'anyone', 'lying']\n    return [huffman_game(create_game(w)) for w in words]",
   "execution_count": 169,
   "outputs": []
  },
  {
   "cell_type": "code",
   "metadata": {
    "cell_id": "00030-02c3af1e-cf88-4375-bbd7-49cadd006134",
    "deepnote_to_be_reexecuted": false,
    "source_hash": "ff144fb1",
    "execution_start": 1646366523426,
    "execution_millis": 5,
    "deepnote_cell_type": "code"
   },
   "source": "print('Staff solution:', [('find', 8), ('time', 6), ('great', 8), ('anyone', 8), ('lying', 10)])\nprint('Your solution: ', test_huffman_game())",
   "execution_count": 170,
   "outputs": [
    {
     "name": "stdout",
     "text": "Staff solution: [('find', 8), ('time', 6), ('great', 8), ('anyone', 8), ('lying', 10)]\nYour solution:  [('find', 8), ('time', 6), ('great', 8), ('anyone', 8), ('lying', 10)]\n",
     "output_type": "stream"
    }
   ]
  },
  {
   "cell_type": "markdown",
   "source": "## Analysis\n\nIn this section, we'll try to compare the average number of guesses required by each of the two methods and connect it to entropy.",
   "metadata": {
    "cell_id": "00031-247c4310-4f68-4f63-8a81-b219f48b4626",
    "deepnote_cell_type": "markdown"
   }
  },
  {
   "cell_type": "markdown",
   "source": "**In the following cell, compute the entropy of the distribution for the secret word.**\n\n*Note: By default, np.log uses the natural log.*",
   "metadata": {
    "cell_id": "00032-07e5974b-0bb4-473a-a061-0f96bb33761c",
    "deepnote_cell_type": "markdown"
   }
  },
  {
   "cell_type": "code",
   "metadata": {
    "cell_id": "00033-0bddc9b4-14a8-410b-86a6-1b8735e43f7c",
    "deepnote_to_be_reexecuted": false,
    "source_hash": "d29efee4",
    "execution_start": 1646366524136,
    "execution_millis": 1,
    "deepnote_cell_type": "code"
   },
   "source": "entropy = None\n## BEGIN YOUR SOLUTION\n\nentropy = np.sum([(i/total_count) * np.log(total_count/i) for i in sorted_word_counts])/np.log(2)\n\n## END YOUR SOLUTION\nprint('Entropy of the distribution:', entropy)",
   "execution_count": 171,
   "outputs": [
    {
     "name": "stdout",
     "text": "Entropy of the distribution: 7.93574630307442\n",
     "output_type": "stream"
    }
   ]
  },
  {
   "cell_type": "markdown",
   "source": "We'll use sampling to estimate the mean number of guesses for each method. In particular, if $X_i$ is the number of guesses required for trial $i$, we can approximate\n$$\nE[X] \\approx \\frac{1}{n} \\sum_{i=1}^n X_i\n$$",
   "metadata": {
    "cell_id": "00034-3ca594de-19f8-418c-a210-6236e05416e3",
    "deepnote_cell_type": "markdown"
   }
  },
  {
   "cell_type": "code",
   "metadata": {
    "cell_id": "00035-822a5eca-e3ba-49cd-bfd3-6ae8d24b13c6",
    "deepnote_to_be_reexecuted": false,
    "source_hash": "b8518c7d",
    "execution_start": 1646366525105,
    "execution_millis": 3070,
    "deepnote_cell_type": "code"
   },
   "source": "SAMPLES = 100000\nbinary_search = np.zeros(SAMPLES)\nhuffman = np.zeros(SAMPLES)\nfor i in range(SAMPLES):\n    secret_word = generate_secret_word()\n    _, binary_search[i] = binary_search_game(create_game(secret_word))\n    _, huffman[i] = huffman_game(create_game(secret_word))",
   "execution_count": 172,
   "outputs": []
  },
  {
   "cell_type": "markdown",
   "metadata": {
    "cell_id": "00036-f47085f7-5846-47eb-b6d7-3616bd5ec987",
    "deepnote_to_be_reexecuted": true,
    "source_hash": "7992d206",
    "execution_start": 1646362553701,
    "execution_millis": 387,
    "deepnote_cell_type": "markdown"
   },
   "source": "bins = np.arange(4, 15)\nplt.hist(binary_search, bins, alpha=0.5, edgecolor='black', align='left', label='Binary Search')\nplt.hist(huffman, bins, alpha=0.5, edgecolor='black', align='left', label='Huffman')\nplt.xlabel('Number of Guesses')\nplt.xticks(np.arange(4, 15))\nplt.legend()\nplt.title('Guess My Word')\nplt.show()",
   "execution_count": 44
  },
  {
   "cell_type": "markdown",
   "source": "Let's create confidence intervals for $E[X]$. We know that $\\frac{1}{n} \\sum_{i=1}^n X_i \\sim \\mathcal{N}\\left(E[X], \\frac{var(X)}{n}\\right)$ by the CLT. **In the following cell, calculate `sigma_n` and `mu`**. We can use the sample mean to estimate $E[X]$ and sample variance to estimate $var(X)$.\n\n*Note that we're not finding the confidence interval for the number of guesses. The `mu` and `sigma_n` we're finding are for $E[X]$ since we only know the empirical mean but not the true mean. We seek to put a bound on the true mean.*",
   "metadata": {
    "cell_id": "00037-3318fb48-deab-444e-a6a7-af1462b869a1",
    "deepnote_cell_type": "markdown"
   }
  },
  {
   "cell_type": "code",
   "metadata": {
    "cell_id": "00038-11814f13-2763-491c-a64b-b1dd39a35c1d",
    "deepnote_to_be_reexecuted": false,
    "source_hash": "c79ef5bb",
    "execution_start": 1646366650273,
    "execution_millis": 8,
    "deepnote_cell_type": "code"
   },
   "source": "def confidence_interval_95(samples):\n    mu, sigma_n = 0, 0\n    # BEGIN YOUR SOLUTION\n\n    mu = np.mean(samples)\n    sigma_n = np.sqrt(np.var(samples)/len(samples))\n    \n    # END YOUR SOLUTION\n    return f'{mu:.3f} +- {1.96 * sigma_n:.3f}'",
   "execution_count": 175,
   "outputs": []
  },
  {
   "outputs": [
    {
     "name": "stdout",
     "text": "Binary Search: 9.683 +- 0.003\nHuffman: 8.266 +- 0.013\n",
     "output_type": "stream"
    }
   ],
   "execution_count": 176,
   "cell_type": "code",
   "metadata": {
    "cell_id": "00039-88118aef-c46f-44df-a3b6-152fa464d8de",
    "deepnote_to_be_reexecuted": false,
    "source_hash": "e26de775",
    "execution_start": 1646366650975,
    "execution_millis": 153,
    "deepnote_cell_type": "code"
   },
   "source": "print(f'Binary Search: {confidence_interval_95(binary_search)}')\nprint(f'Huffman: {confidence_interval_95(huffman)}')"
  },
  {
   "outputs": [],
   "execution_count": 174,
   "cell_type": "code",
   "source": "",
   "metadata": {
    "cell_id": "2159fab2-5b22-47a8-bbda-93ef3a716611",
    "tags": [],
    "deepnote_to_be_reexecuted": false,
    "source_hash": "b623e53d",
    "execution_start": 1646366528332,
    "execution_millis": 0,
    "deepnote_cell_type": "code"
   }
  },
  {
   "cell_type": "markdown",
   "source": "",
   "metadata": {
    "cell_id": "8180156e-7f8d-44c1-8aed-1a24a14d1cda",
    "tags": [],
    "deepnote_cell_type": "markdown"
   }
  },
  {
   "cell_type": "markdown",
   "source": "",
   "metadata": {
    "cell_id": "bacfcc8a-a461-4882-a042-d19559bb9352",
    "tags": [],
    "deepnote_cell_type": "markdown"
   }
  },
  {
   "cell_type": "markdown",
   "source": "<a style='text-decoration:none;line-height:16px;display:flex;color:#5B5B62;padding:10px;justify-content:end;' href='https://deepnote.com?utm_source=created-in-deepnote-cell&projectId=689c629a-8a71-4920-b171-415d33c91843' target=\"_blank\">\n<img alt='Created in deepnote.com' style='display:inline;max-height:16px;margin:0px;margin-right:7.5px;' src='data:image/svg+xml;base64,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' > </img>\nCreated in <span style='font-weight:600;margin-left:4px;'>Deepnote</span></a>",
   "metadata": {
    "tags": [],
    "created_in_deepnote_cell": true,
    "deepnote_cell_type": "markdown"
   }
  }
 ],
 "nbformat": 4,
 "nbformat_minor": 4,
 "metadata": {
  "kernelspec": {
   "display_name": "Python 3",
   "language": "python",
   "name": "python3"
  },
  "language_info": {
   "codemirror_mode": {
    "name": "ipython",
    "version": 3
   },
   "file_extension": ".py",
   "mimetype": "text/x-python",
   "name": "python",
   "nbconvert_exporter": "python",
   "pygments_lexer": "ipython3",
   "version": "3.8.3"
  },
  "deepnote_notebook_id": "126d629d-0e7b-465b-8928-ff98a28c6f7e",
  "deepnote": {},
  "deepnote_execution_queue": []
 }
}