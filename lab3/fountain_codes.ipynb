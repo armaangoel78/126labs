{
 "cells": [
  {
   "cell_type": "markdown",
   "source": "# Codes for Efficient Transmission of Data",
   "metadata": {
    "cell_id": "0086bc2a-e1c0-4e92-89d4-a4dadf3870db",
    "deepnote_cell_height": 134,
    "deepnote_cell_type": "markdown"
   }
  },
  {
   "cell_type": "markdown",
   "source": "## Introduction \n\nWhen sending packets of data over a communication channel such as the internet or a radio channel, packets often get erased. Because of this, packets must be sent under some erasure code such that the data can still be recovered. In CS 70, you may have learned about an erasure code that involves embedding the data in a polynomial, and then sampling points from that polynomial. There, we assumed that there were at most $k$ erasures in the channel. This week, we'll explore a different channel model in which each packet independently has a probability $p$ of being erased. In particular, this lab will look at random bipartite graphs (the balls and bins model).\n\nA little more on the channel and the erasure code; formally, our channel is called the binary erasure channel (BEC), where bits that are sent through a noisy channel either make it through unmodified or are tagged as \"corrupt\", in which case the received information is dropped in all further information processing steps. Here's an image that shows what happens:\n\n<center><img src=\"https://upload.wikimedia.org/wikipedia/commons/thumb/b/b6/Binary_erasure_channel.svg/156px-Binary_erasure_channel.svg.png\"></center>\n\nIf we wanted to convey a message, we could consider a feedback channel in which the receiver tells the sender which messages were received and the sender re-sends the dropped packets. This process can be repeated until the receiver gets all of the intended message. While this procedure is indeed optimal in all senses of the word, feedback is simply not possible in many circumstances. If Netflix is trying to stream a show chunked into $n$ data chunks to a million people, its servers can't process all the feedback from the users. Thus, Netflix must use a method independent of feedback. If they use near-optimal codes to encode and constantly send out the same random chunks of the video's data to all users, then they can be sure that users get what they need in only a little more than $n$ transmissions *no matter what parts of the show each individual user lost through their specific channel*!\n\nSo what's the secret to this magic?  It's a two step process of clever encoding and decoding:",
   "metadata": {
    "cell_id": "00001-16768c01-59e3-48cc-adb0-dec8746013a4",
    "deepnote_cell_height": 871,
    "deepnote_cell_type": "markdown"
   }
  },
  {
   "cell_type": "markdown",
   "source": "### Encoding\n1. Suppose your data can be divided into $n$ chunks. First, pick an integer $d$ ($1 \\leq d \\leq n$) according to some distribution.\n2. With $d$ picked, now select $d$ random chunks of the data and combine their binary representations together using the XOR operator.\n3. Transmit these chunks, along with the metadata telling which actual chunk indices were XOR'd, as a packet. If a packet is erased, both the chunks it contains and the chunk indices would be lost. \n\n### Decoding\n1. For each packet that has been received, check if it only contains one chunk, in which case the packet is exactly equal to the single chunk it contains. If not, we can check if any of the chunks in the packet are already known, in which case XOR that chunk with the packet and remove it from the list of chunk indices that make up the packet.\n3. If there are two or more indices in the list left for the packet, we cannot figure out any more information!  Put it on the side for looking at later.\n4. With any newly decoded information, we may be able to decode previously undecodable packets that we had put on the side.  Go through all unsolved packets and try to decode more packets until nothing more can be done.\n5. Wait for the next packet to come and repeat!\n\nNow what's left for you to do?  Well, remember that number $d$?  It needs to be picked according to some distribution, and which distribution is the million dollar question!\n\n\n### Example\n<center><img src=\"bipartite.png\" style=\"width: 300px;\"> </center>\n\nConsider the above bipartite graph. Here, the right square nodes represent the packets, and the left circular nodes represent the data chunks ($X_i, i=1,..,4$). There is an edge from a packet to a chunk if the packet contains that chunk. Let's try decoding the packets chronologically.\n1. Since the first packet contains only the third data chunk, we are able to immediately resolve it and find that $X_3=1$.\n2. The second packet contains the second and third chunks XOR'd together. Since we already know the third chunk, we can XOR the third chunk ($X_3=1$) with the data packet (0) to get the value of the second data chunk, $X_2=1$.\n3. The third packet contains the XOR of data chunks 1, 2, and 4. We have already determined chunks 2 and 3, so we are able to XOR 2 from this packet, but are still left with 1 and 4, and so must move on.\n4. With the arrival of the fourth packet, we are able to resolve everything: data chunks 2 and 3 are already determined, and so we are able to XOR chunk 3 ($X_3=1$) with this new data packet (1) to get the value of the chunk 4, $X_4=0$. With this new information, we are able to resolve $X_1$, as packet 3 gave us the equation $1 = X_1 \\oplus X_2 \\oplus X_4 = X_1 \\oplus 1 \\oplus 0$. We can solve this to get $X_1 = 0$.\n5. We have now solved for all the data chunks, with $X_1 = 0, X_2 = 1, X_3 = 1, X_4 = 0$.\n\nAs you might be able to tell, by choosing a good degree distribution for $d$, even when random incoming packets were lost (not shown), you were still able to recover all $4$ symbols only from $4$ received packets, despite the sender not knowing what packets you lost through the BEC.",
   "metadata": {
    "cell_id": "00002-edc71235-fe76-4ac8-aebb-28629efdc5fd",
    "deepnote_cell_height": 1516,
    "deepnote_cell_type": "markdown"
   }
  },
  {
   "cell_type": "markdown",
   "source": "## Q1. Code\n\nWe've provided you with some starter code, including a Packet class, a Transmitter class, a Channel class, and a Receiver class. **Your job is to complete the receive_packet() function in the Receiver class**. Feel free to write any additional functions that you may need.",
   "metadata": {
    "cell_id": "00003-88a9e585-c704-4461-b78b-c2c56c2ae897",
    "deepnote_cell_height": 176,
    "deepnote_cell_type": "markdown"
   }
  },
  {
   "cell_type": "markdown",
   "source": "### Packet Class & Utility functions\n\nA packet consists of...\n- chunk_indices: Which chunks are chosen\n- data: The 'XOR'ed data",
   "metadata": {
    "cell_id": "00004-cff134f1-58d4-40c7-92f6-e42aaf82c0e6",
    "deepnote_cell_height": 176.171875,
    "deepnote_cell_type": "markdown"
   }
  },
  {
   "cell_type": "code",
   "metadata": {
    "cell_id": "00005-d341e94c-5910-4f76-8ef9-07e891ee0d02",
    "deepnote_cell_height": 423,
    "deepnote_to_be_reexecuted": false,
    "source_hash": "62777a13",
    "execution_start": 1645154712624,
    "execution_millis": 11,
    "deepnote_cell_type": "code"
   },
   "source": "%matplotlib inline  \nimport matplotlib.pyplot as plt\nimport numpy as np\nimport json\nimport random\n\ndef xor(chunks):\n    tmp = np.zeros(Packet.size_of_packet, 'uint8')\n    for each_chunk in chunks:\n        tmp = np.bitwise_xor(tmp, each_chunk)\n    return tmp\n\nclass Packet:\n    size_of_packet = 256\n    def __init__(self, chunks, chunk_indices):\n        self.data = xor(chunks)\n        self.chunk_indices = chunk_indices\n            \n    def num_of_chunks(self):\n        return len(self.chunk_indices)",
   "execution_count": null,
   "outputs": []
  },
  {
   "cell_type": "markdown",
   "source": "### Channel Class\n\nChannel class takes a packet and erase it with probability eps.",
   "metadata": {
    "cell_id": "00006-4ea4004a-70f9-40b1-8da8-985910ea8f09",
    "deepnote_cell_height": 100.390625,
    "deepnote_cell_type": "markdown"
   }
  },
  {
   "cell_type": "code",
   "metadata": {
    "cell_id": "00007-fa7553a6-0d3f-4d9b-8d83-5f9af247d644",
    "deepnote_cell_height": 297,
    "deepnote_to_be_reexecuted": false,
    "source_hash": "b68c0a39",
    "execution_start": 1645154714643,
    "execution_millis": 5,
    "deepnote_cell_type": "code"
   },
   "source": "class Channel:\n    def __init__(self, eps):\n        self.eps = eps\n        self.current_packet = None\n        \n    def enqueue(self, packet):\n        if random.random() < self.eps:\n            self.current_packet = None\n        else:\n            self.current_packet = packet\n            \n    def dequeue(self):\n        return self.current_packet",
   "execution_count": null,
   "outputs": []
  },
  {
   "cell_type": "markdown",
   "source": "### Transmitter & Encoder Class\n\nYou can initiate an encoder with a string! Then, <tt>generate_packet()</tt> will return a randomly encoded packet.",
   "metadata": {
    "cell_id": "00008-7c4258bc-35d4-4f6d-9770-e3fa4e2d3a9f",
    "deepnote_cell_height": 122.78125,
    "deepnote_cell_type": "markdown"
   }
  },
  {
   "cell_type": "code",
   "metadata": {
    "cell_id": "00009-f6f50ef0-6b2c-4cb9-a7a8-205e10653909",
    "deepnote_cell_height": 927,
    "deepnote_to_be_reexecuted": false,
    "source_hash": "6dcd0698",
    "execution_start": 1645154740401,
    "execution_millis": 3,
    "deepnote_cell_type": "code"
   },
   "source": "class Transmitter:\n    def __init__(self, chunks, channel, degree_distribution):\n        self.chunks = chunks\n        self.num_chunks = len(chunks)\n        self.channel = channel\n        self.degree_distribution = degree_distribution\n        \n    def generate_new_packet(self, num_sent=None):\n        if self.degree_distribution == 'single':\n            # Always give a degree of 1\n            n_of_chunks = 1\n        elif self.degree_distribution == 'double':\n            # Always give a degree of 2\n            n_of_chunks = 2\n        elif self.degree_distribution == 'mixed':\n            # Give a degree of 1 half the time, 2 the other half\n            if random.random() < 0.5:\n                n_of_chunks = 1\n            else:\n                n_of_chunks = 2\n        elif self.degree_distribution == 'baseline':\n            \"\"\"\n            Randomly assign a degree from between 1 and 5.\n            If num_chunks < 5, randomly assign a degree from \n            between 1 and num_chunks\n            \"\"\"\n            n_of_chunks = random.randint(1,min(5, self.num_chunks))\n        elif self.degree_distribution == 'sd':\n            # Soliton distribution\n            tmp = random.random()\n            n_of_chunks = -1\n            for i in range(2, self.num_chunks + 1):\n                if tmp > 1/np.double(i):\n                    n_of_chunks = int(np.ceil(1/tmp))\n                    break\n            if n_of_chunks == -1:\n                n_of_chunks = 1\n        elif self.degree_distribution == 'competition':\n            # BEGIN YOUR SOLUTION (Question 4)\n            pass\n            # END YOUR SOLUTION\n        chunk_indices = random.sample(range(self.num_chunks), n_of_chunks)\n        chunks = [ self.chunks[x] for x in chunk_indices ]\n        return Packet( chunks, chunk_indices )\n        \n    def transmit_one_packet(self, num_sent=None):\n        packet = self.generate_new_packet(num_sent)\n        self.channel.enqueue( packet )",
   "execution_count": null,
   "outputs": []
  },
  {
   "cell_type": "markdown",
   "source": "### Receiver & Decoder Class\n\nYou can initiate a decoder with the total number of chunks. Then, <tt>add_packet()</tt> will add a received packet to the decoder.",
   "metadata": {
    "cell_id": "00010-a5eac9ee-d9d8-4cc4-acab-15b197e503cf",
    "deepnote_cell_height": 122.78125,
    "deepnote_cell_type": "markdown"
   }
  },
  {
   "cell_type": "code",
   "metadata": {
    "cell_id": "00011-a529d16c-ec64-453a-9296-b4fa36892e11",
    "deepnote_cell_height": 729,
    "deepnote_to_be_reexecuted": false,
    "source_hash": "6278522",
    "execution_start": 1645154760038,
    "execution_millis": 0,
    "deepnote_cell_type": "code"
   },
   "source": "class Receiver:\n    def __init__(self, num_chunks, channel):\n        self.num_chunks = num_chunks\n        \n        # List of packets to process.\n        self.received_packets = []\n        \n        # List of decoded chunks, where self.chunks[i] is the original chunk x_i.\n        self.chunks = np.zeros((num_chunks, Packet.size_of_packet),dtype=np.uint8)\n        \n        # Boolean array to keep track of which packets have been found, where self.found[i] indicates\n        # if x_i has been found.\n        self.found = [ False for x in range(self.num_chunks) ]\n        self.channel = channel\n        \n    def receive_packet(self):\n        \"\"\"\n        The new packet may contain known chunks\n        It may also help peeling the existing packets\n        \"\"\"\n        packet = self.channel.dequeue()\n        if packet is not None:\n            pass\n            # BEGIN YOUR SOLUTION\n            \n            # END YOUR SOLUTION\n    \n    def peeling(self):\n        # BEGIN YOUR SOLUTION\n        pass  \n        # END YOUR SOLUTION\n    \n    def isDone(self):\n        return self.chunksDone() == self.num_chunks\n\n    def chunksDone(self):\n        return sum(self.found)",
   "execution_count": null,
   "outputs": []
  },
  {
   "cell_type": "markdown",
   "source": "## Q2. Sending the raccoon",
   "metadata": {
    "cell_id": "00012-e92c64b9-d43a-4868-b30e-00685cb44710",
    "deepnote_cell_height": 70,
    "deepnote_cell_type": "markdown"
   }
  },
  {
   "cell_type": "markdown",
   "source": "\nfrom scipy import misc\nimport matplotlib.cm as cm\n\n# pip3 install pillow\nfrom PIL import Image\nimport numpy as np\nl = np.asarray(plt.imread(\"raccoon.jpg\"))\n# converts the image to grayscale\nx = np.full((512, 512), 0.299) * l[:, :, 0] + \\\n    np.full((512, 512), 0.587) * l[:, :, 1] + \\\n    np.full((512, 512), 0.113) * l[:, :, 2]\nx = np.array(x, dtype=\"uint8\")\n\nplt.imshow(x, cmap = cm.Greys_r)",
   "metadata": {
    "cell_id": "00013-034c85a7-e65e-48c5-a5a0-e7032872b2c7",
    "deepnote_cell_height": 733,
    "deepnote_to_be_reexecuted": false,
    "source_hash": "b5584dad",
    "execution_start": 1645154763478,
    "execution_millis": 678,
    "deepnote_output_heights": [
     21.1875,
     254
    ],
    "deepnote_cell_type": "markdown"
   }
  },
  {
   "cell_type": "markdown",
   "source": "**a. Break up the image shown below into $1024$ chunks of size $256$ each.** Hint: You should only need one line for this part.",
   "metadata": {
    "cell_id": "00014-a72ea260-2016-4cb4-a3aa-6c1803604b36",
    "deepnote_cell_height": 74.78125,
    "deepnote_cell_type": "markdown"
   }
  },
  {
   "cell_type": "code",
   "metadata": {
    "scrolled": true,
    "cell_id": "00015-08210c92-13ed-4159-b84f-fd06416b6d54",
    "deepnote_cell_height": 288.1875,
    "deepnote_to_be_reexecuted": false,
    "source_hash": "2e7fe01f",
    "execution_start": 1645163890672,
    "execution_millis": 461,
    "deepnote_cell_type": "code"
   },
   "source": "image_data = x[:, :]\nsize_of_packet = 256 \nnum_of_packets = 1024\nassert np.prod(image_data.shape) == size_of_packet * num_of_packets\n\n# BEGIN YOUR SOLUTION\nchunks = np.array([image_data[i//2, ((i%2)*256):(256+(i%2)*256)] for i in range(image_data.shape[0]*2)])\n# chunks = image_data...\n# END YOUR SOLUTION",
   "execution_count": null,
   "outputs": [
    {
     "output_type": "error",
     "ename": "NameError",
     "evalue": "name 'x' is not defined",
     "traceback": [
      "\u001b[0;31m---------------------------------------------------------------------------\u001b[0m",
      "\u001b[0;31mNameError\u001b[0m                                 Traceback (most recent call last)",
      "\u001b[0;32m<ipython-input-1-9edcc1e13e9b>\u001b[0m in \u001b[0;36m<module>\u001b[0;34m\u001b[0m\n\u001b[0;32m----> 1\u001b[0;31m \u001b[0mimage_data\u001b[0m \u001b[0;34m=\u001b[0m \u001b[0mx\u001b[0m\u001b[0;34m[\u001b[0m\u001b[0;34m:\u001b[0m\u001b[0;34m,\u001b[0m \u001b[0;34m:\u001b[0m\u001b[0;34m]\u001b[0m\u001b[0;34m\u001b[0m\u001b[0;34m\u001b[0m\u001b[0m\n\u001b[0m\u001b[1;32m      2\u001b[0m \u001b[0msize_of_packet\u001b[0m \u001b[0;34m=\u001b[0m \u001b[0;36m256\u001b[0m\u001b[0;34m\u001b[0m\u001b[0;34m\u001b[0m\u001b[0m\n\u001b[1;32m      3\u001b[0m \u001b[0mnum_of_packets\u001b[0m \u001b[0;34m=\u001b[0m \u001b[0;36m1024\u001b[0m\u001b[0;34m\u001b[0m\u001b[0;34m\u001b[0m\u001b[0m\n\u001b[1;32m      4\u001b[0m \u001b[0;32massert\u001b[0m \u001b[0mnp\u001b[0m\u001b[0;34m.\u001b[0m\u001b[0mprod\u001b[0m\u001b[0;34m(\u001b[0m\u001b[0mimage_data\u001b[0m\u001b[0;34m.\u001b[0m\u001b[0mshape\u001b[0m\u001b[0;34m)\u001b[0m \u001b[0;34m==\u001b[0m \u001b[0msize_of_packet\u001b[0m \u001b[0;34m*\u001b[0m \u001b[0mnum_of_packets\u001b[0m\u001b[0;34m\u001b[0m\u001b[0;34m\u001b[0m\u001b[0m\n\u001b[1;32m      5\u001b[0m \u001b[0;34m\u001b[0m\u001b[0m\n",
      "\u001b[0;31mNameError\u001b[0m: name 'x' is not defined"
     ]
    }
   ]
  },
  {
   "cell_type": "code",
   "metadata": {
    "cell_id": "08a2ba7a-6384-45e4-8b9f-ad6afc0077d8",
    "tags": [],
    "deepnote_to_be_reexecuted": false,
    "source_hash": "cde30be6",
    "execution_start": 1645154816593,
    "execution_millis": 2,
    "deepnote_cell_height": 112.1875,
    "deepnote_cell_type": "code"
   },
   "source": "print(len(chunks))",
   "execution_count": null,
   "outputs": [
    {
     "name": "stdout",
     "text": "1024\n",
     "output_type": "stream"
    }
   ]
  },
  {
   "cell_type": "code",
   "metadata": {
    "cell_id": "87236794-ef26-4997-95c9-e23bed6d52e4",
    "tags": [],
    "deepnote_to_be_reexecuted": false,
    "source_hash": "eca97766",
    "execution_start": 1645154819023,
    "execution_millis": 5,
    "deepnote_output_heights": [
     385.75
    ],
    "deepnote_cell_height": 482.75,
    "deepnote_cell_type": "code"
   },
   "source": "chunks[3]",
   "execution_count": null,
   "outputs": [
    {
     "output_type": "execute_result",
     "execution_count": 10,
     "data": {
      "text/plain": "array([ 59,  60,  61,  59,  57,  58,  62,  65,  59,  57,  61,  67,  63,\n        62,  68,  69,  71,  74,  75,  74,  73,  75,  73,  69,  76,  79,\n        77,  75,  79,  77,  75,  78,  76,  75,  75,  73,  72,  70,  68,\n        67,  64,  64,  62,  58,  55,  55,  59,  63,  58,  56,  61,  65,\n        63,  64,  66,  61,  63,  68,  67,  66,  67,  69,  72,  69,  72,\n        72,  72,  71,  72,  74,  76,  78,  80,  82,  85,  89,  92,  95,\n        95,  97,  98,  95,  95,  92,  88,  87,  86,  83,  89,  86,  90,\n        88,  93,  90,  89,  84,  84,  82,  80,  79,  80,  83,  88,  91,\n        98,  99, 100, 104, 109, 112, 113, 113, 109, 110, 110, 109, 104,\n        99,  91,  87,  75,  71,  70,  65,  69,  71,  80,  83,  88,  94,\n        97,  96,  95,  97,  96,  93,  85,  81,  79,  79,  75,  70,  67,\n        69,  72,  74,  77,  79,  78,  74,  69,  66,  64,  63,  64,  64,\n        66,  70,  74,  76,  90,  91,  86,  85,  81,  68,  60,  61,  73,\n        74,  74,  73,  77,  80,  79,  74,  69,  71,  77,  86, 101, 115,\n       129, 137, 133, 138, 136, 130, 126, 117, 109, 109,  96,  86,  74,\n        64,  61,  58,  57,  55,  51,  54,  54,  56,  48,  39,  51,  62,\n        79,  86,  87,  82,  76,  71,  67,  61,  46,  42,  48,  49,  52,\n        61,  70,  85,  98, 109, 121, 133, 137, 128, 121, 125, 101,  90,\n        72,  64,  56,  49,  60,  73,  73,  77,  80,  89,  88,  88,  76,\n        72,  82,  75,  78,  67,  66,  59,  57,  56], dtype=uint8)"
     },
     "metadata": {}
    }
   ]
  },
  {
   "cell_type": "code",
   "metadata": {
    "cell_id": "ca6f6f5c-c412-44e2-9174-f5ce7f7d1f67",
    "tags": [],
    "deepnote_cell_height": 482.75,
    "deepnote_to_be_reexecuted": false,
    "source_hash": "77b7862f",
    "execution_start": 1645154822851,
    "execution_millis": 3,
    "deepnote_output_heights": [
     385.75
    ],
    "deepnote_cell_type": "code"
   },
   "source": "image_data[1, 256:256*2]",
   "execution_count": null,
   "outputs": [
    {
     "output_type": "execute_result",
     "execution_count": 11,
     "data": {
      "text/plain": "array([ 59,  60,  61,  59,  57,  58,  62,  65,  59,  57,  61,  67,  63,\n        62,  68,  69,  71,  74,  75,  74,  73,  75,  73,  69,  76,  79,\n        77,  75,  79,  77,  75,  78,  76,  75,  75,  73,  72,  70,  68,\n        67,  64,  64,  62,  58,  55,  55,  59,  63,  58,  56,  61,  65,\n        63,  64,  66,  61,  63,  68,  67,  66,  67,  69,  72,  69,  72,\n        72,  72,  71,  72,  74,  76,  78,  80,  82,  85,  89,  92,  95,\n        95,  97,  98,  95,  95,  92,  88,  87,  86,  83,  89,  86,  90,\n        88,  93,  90,  89,  84,  84,  82,  80,  79,  80,  83,  88,  91,\n        98,  99, 100, 104, 109, 112, 113, 113, 109, 110, 110, 109, 104,\n        99,  91,  87,  75,  71,  70,  65,  69,  71,  80,  83,  88,  94,\n        97,  96,  95,  97,  96,  93,  85,  81,  79,  79,  75,  70,  67,\n        69,  72,  74,  77,  79,  78,  74,  69,  66,  64,  63,  64,  64,\n        66,  70,  74,  76,  90,  91,  86,  85,  81,  68,  60,  61,  73,\n        74,  74,  73,  77,  80,  79,  74,  69,  71,  77,  86, 101, 115,\n       129, 137, 133, 138, 136, 130, 126, 117, 109, 109,  96,  86,  74,\n        64,  61,  58,  57,  55,  51,  54,  54,  56,  48,  39,  51,  62,\n        79,  86,  87,  82,  76,  71,  67,  61,  46,  42,  48,  49,  52,\n        61,  70,  85,  98, 109, 121, 133, 137, 128, 121, 125, 101,  90,\n        72,  64,  56,  49,  60,  73,  73,  77,  80,  89,  88,  88,  76,\n        72,  82,  75,  78,  67,  66,  59,  57,  56], dtype=uint8)"
     },
     "metadata": {}
    }
   ]
  },
  {
   "cell_type": "markdown",
   "source": "Here's a function that simulates the transmission of data across the channel. It returns a tuple containing the total number of packets sent, the intermediate image every 512 packets and the final image, and the number of chunks decoded every 64 packets). You'll use it for the next question.",
   "metadata": {
    "cell_id": "00016-c445c9e2-5fe2-4479-9b43-d56a98732bec",
    "deepnote_cell_height": 141.953125,
    "deepnote_cell_type": "markdown"
   }
  },
  {
   "cell_type": "code",
   "metadata": {
    "cell_id": "00017-4eb2ae69-3a1c-416a-9cec-e18aec1d7655",
    "deepnote_cell_height": 495,
    "deepnote_to_be_reexecuted": false,
    "source_hash": "13ec823",
    "execution_start": 1645154833992,
    "execution_millis": 1,
    "deepnote_cell_type": "code"
   },
   "source": "# Returns a tuple (packets sent, intermediate image every 512 packets + final image, chunks decoded every 64 packets)\ndef send(tx, rx, verbose=False):\n    threshold = rx.num_chunks * 20\n    num_sent = 0\n    images = []\n    chunks_decoded = []\n    while not rx.isDone():\n        tx.transmit_one_packet(num_sent)\n        rx.receive_packet()\n        if num_sent % 512 == 0:\n            images.append(np.array(rx.chunks.reshape((512,512))))\n            if verbose:\n                print(num_sent, rx.chunksDone())\n        if num_sent % 64 == 0:\n            chunks_decoded.append(rx.chunksDone())\n        num_sent += 1\n        if num_sent > threshold:\n            print(\"Ending transmission because too many packets have been sent. This may be caused by a bug in \" + \n                  \"receive_packet or an inefficient custom strategy.\")\n            break\n            \n    chunks_decoded.append(rx.chunksDone())\n    images.append(rx.chunks.reshape((512,512)))\n    return (num_sent, images, chunks_decoded)",
   "execution_count": null,
   "outputs": []
  },
  {
   "cell_type": "markdown",
   "source": "**b. Using the 'single' degree distribution defined in the Transmitter class, send the raccoon over a channel with erasure probability 0.2.**  How many packets did you need to send?",
   "metadata": {
    "cell_id": "00018-c341aa15-36db-431e-bfc5-7837ef060358",
    "deepnote_cell_height": 97.171875,
    "deepnote_cell_type": "markdown"
   }
  },
  {
   "cell_type": "markdown",
   "source": "**c. Plot the number of chunks decoded as a function of the number of packets you send. (The chunks_decoded array should be helpful here)**",
   "metadata": {
    "cell_id": "00020-859a508c-df82-42f3-bd0c-53e4c250ec87",
    "deepnote_cell_height": 97.171875,
    "deepnote_cell_type": "markdown"
   }
  },
  {
   "cell_type": "code",
   "metadata": {
    "cell_id": "00021-d8b772f4-50d2-4494-a0e9-069a7c83fb70",
    "deepnote_cell_height": 780,
    "deepnote_to_be_reexecuted": false,
    "source_hash": "6c37ec97",
    "execution_start": 1645147790814,
    "execution_millis": 8,
    "deepnote_output_heights": [
     611
    ],
    "deepnote_cell_type": "code"
   },
   "source": "# BEGIN YOUR SOLUTION\n\nsingle_decoded\n\n# END YOUR SOLUTION",
   "execution_count": null,
   "outputs": [
    {
     "output_type": "execute_result",
     "execution_count": 25,
     "data": {
      "text/plain": "[0,\n 0,\n 0,\n 0,\n 0,\n 0,\n 0,\n 0,\n 0,\n 0,\n 0,\n 0,\n 0,\n 0,\n 0,\n 0,\n 0,\n 0,\n 0,\n 0,\n 0,\n 0,\n 0,\n 0,\n 0,\n 0,\n 0,\n 0,\n 0,\n 0,\n 0,\n 0,\n 0,\n 0,\n 0,\n 0,\n 0,\n 0,\n 0,\n 0,\n 0,\n 0,\n 0,\n 0,\n 0,\n 0,\n 0,\n 0,\n 0,\n 0,\n 0,\n 0,\n 0,\n 0,\n 0,\n 0,\n 0,\n 0,\n 0,\n 0,\n 0,\n 0,\n 0,\n 0,\n 0,\n 0,\n 0,\n 0,\n 0,\n 0,\n 0,\n 0,\n 0,\n 0,\n 0,\n 0,\n 0,\n 0,\n 0,\n 0,\n 0,\n 0,\n 0,\n 0,\n 0,\n 0,\n 0,\n 0,\n 0,\n 0,\n 0,\n 0,\n 0,\n 0,\n 0,\n 0,\n 0,\n 0,\n 0,\n 0,\n 0,\n 0,\n 0,\n 0,\n 0,\n 0,\n 0,\n 0,\n 0,\n 0,\n 0,\n 0,\n 0,\n 0,\n 0,\n 0,\n 0,\n 0,\n 0,\n 0,\n 0,\n 0,\n 0,\n 0,\n 0,\n 0,\n 0,\n 0,\n 0,\n 0,\n 0,\n 0,\n 0,\n 0,\n 0,\n 0,\n 0,\n 0,\n 0,\n 0,\n 0,\n 0,\n 0,\n 0,\n 0,\n 0,\n 0,\n 0,\n 0,\n 0,\n 0,\n 0,\n 0,\n 0,\n 0,\n 0,\n 0,\n 0,\n 0,\n 0,\n 0,\n 0,\n 0,\n 0,\n 0,\n 0,\n 0,\n 0,\n 0,\n 0,\n 0,\n 0,\n 0,\n 0,\n 0,\n 0,\n 0,\n 0,\n 0,\n 0,\n 0,\n 0,\n 0,\n 0,\n 0,\n 0,\n 0,\n 0,\n 0,\n 0,\n 0,\n 0,\n 0,\n 0,\n 0,\n 0,\n 0,\n 0,\n 0,\n 0,\n 0,\n 0,\n 0,\n 0,\n 0,\n 0,\n 0,\n 0,\n 0,\n 0,\n 0,\n 0,\n 0,\n 0,\n 0,\n 0,\n 0,\n 0,\n 0,\n 0,\n 0,\n 0,\n 0,\n 0,\n 0,\n 0,\n 0,\n 0,\n 0,\n 0,\n 0,\n 0,\n 0,\n 0,\n 0,\n 0,\n 0,\n 0,\n 0,\n 0,\n 0,\n 0,\n 0,\n 0,\n 0,\n 0,\n 0,\n 0,\n 0,\n 0,\n 0,\n 0,\n 0,\n 0,\n 0,\n 0,\n 0,\n 0,\n 0,\n 0,\n 0,\n 0,\n 0,\n 0,\n 0,\n 0,\n 0,\n 0,\n 0,\n 0,\n 0,\n 0,\n 0,\n 0,\n 0,\n 0,\n 0,\n 0,\n 0,\n 0,\n 0,\n 0,\n 0,\n 0,\n 0,\n 0,\n 0,\n 0,\n 0,\n 0,\n 0,\n 0,\n 0,\n 0,\n 0,\n 0,\n 0,\n 0,\n 0,\n 0,\n 0,\n 0,\n 0,\n 0,\n 0,\n 0,\n 0,\n 0,\n 0,\n 0,\n 0,\n 0,\n 0,\n 0,\n 0,\n 0,\n 0,\n 0,\n 0,\n 0,\n 0,\n 0]"
     },
     "metadata": {}
    }
   ]
  },
  {
   "cell_type": "markdown",
   "source": "**d. Looking at the graph, we see that it gets harder and harder to find the rest as we decode more and more chunks. Does this remind you of a well known theoretical problem?**\n\nHint: Try out some small examples!",
   "metadata": {
    "cell_id": "00022-cb0bdfae-2e88-4a69-95f8-9d572e88e80a",
    "deepnote_cell_height": 133.5625,
    "deepnote_cell_type": "markdown"
   }
  },
  {
   "cell_type": "markdown",
   "source": "YOUR ANSWER HERE",
   "metadata": {
    "cell_id": "00023-fe564634-26f4-451d-84b4-794fd05397f0",
    "deepnote_cell_height": 52.390625,
    "deepnote_cell_type": "markdown"
   }
  },
  {
   "cell_type": "markdown",
   "source": "**e. Using the 'double' degree distribution defined in the Transmitter class, send the raccoon over a channel with erasure probability 0.2. Don't worry about intermediate plots this time. What happens?**",
   "metadata": {
    "cell_id": "00024-09eb1fcf-e51a-4cab-a7ca-b22bbdf088a9",
    "deepnote_cell_height": 97.171875,
    "deepnote_cell_type": "markdown"
   }
  },
  {
   "cell_type": "code",
   "metadata": {
    "cell_id": "00025-e01388e0-bea1-4dd5-8da2-35acc83324a6",
    "deepnote_cell_height": 288.1875,
    "deepnote_to_be_reexecuted": false,
    "source_hash": "31635a77",
    "execution_start": 1645165377573,
    "execution_millis": 2,
    "deepnote_cell_type": "code"
   },
   "source": "# BEGIN YOUR SOLUTION\neps = 0.2\nch = Channel(eps)\ntx = Transmitter(chunks, ch, 'single')\nrx = Receiver(num_of_packets, ch)\n# END YOUR SOLUTION\n\ndouble_sent, images, double_decoded = send(tx,rx)\nprint(\"The number of packets sent: {}\".format(double_sent))",
   "execution_count": null,
   "outputs": [
    {
     "output_type": "error",
     "ename": "NameError",
     "evalue": "name 'Channel' is not defined",
     "traceback": [
      "\u001b[0;31m---------------------------------------------------------------------------\u001b[0m",
      "\u001b[0;31mNameError\u001b[0m                                 Traceback (most recent call last)",
      "\u001b[0;32m<ipython-input-2-544d703cab07>\u001b[0m in \u001b[0;36m<module>\u001b[0;34m\u001b[0m\n\u001b[1;32m      1\u001b[0m \u001b[0;31m# BEGIN YOUR SOLUTION\u001b[0m\u001b[0;34m\u001b[0m\u001b[0;34m\u001b[0m\u001b[0;34m\u001b[0m\u001b[0m\n\u001b[1;32m      2\u001b[0m \u001b[0meps\u001b[0m \u001b[0;34m=\u001b[0m \u001b[0;36m0.2\u001b[0m\u001b[0;34m\u001b[0m\u001b[0;34m\u001b[0m\u001b[0m\n\u001b[0;32m----> 3\u001b[0;31m \u001b[0mch\u001b[0m \u001b[0;34m=\u001b[0m \u001b[0mChannel\u001b[0m\u001b[0;34m(\u001b[0m\u001b[0meps\u001b[0m\u001b[0;34m)\u001b[0m\u001b[0;34m\u001b[0m\u001b[0;34m\u001b[0m\u001b[0m\n\u001b[0m\u001b[1;32m      4\u001b[0m \u001b[0mtx\u001b[0m \u001b[0;34m=\u001b[0m \u001b[0mTransmitter\u001b[0m\u001b[0;34m(\u001b[0m\u001b[0mchunks\u001b[0m\u001b[0;34m,\u001b[0m \u001b[0mch\u001b[0m\u001b[0;34m,\u001b[0m \u001b[0;34m'single'\u001b[0m\u001b[0;34m)\u001b[0m\u001b[0;34m\u001b[0m\u001b[0;34m\u001b[0m\u001b[0m\n\u001b[1;32m      5\u001b[0m \u001b[0mrx\u001b[0m \u001b[0;34m=\u001b[0m \u001b[0mReceiver\u001b[0m\u001b[0;34m(\u001b[0m\u001b[0mnum_of_packets\u001b[0m\u001b[0;34m,\u001b[0m \u001b[0mch\u001b[0m\u001b[0;34m)\u001b[0m\u001b[0;34m\u001b[0m\u001b[0;34m\u001b[0m\u001b[0m\n",
      "\u001b[0;31mNameError\u001b[0m: name 'Channel' is not defined"
     ]
    }
   ]
  },
  {
   "cell_type": "markdown",
   "source": "YOUR ANSWER HERE",
   "metadata": {
    "cell_id": "00026-e6c5c0b1-6008-4a10-a458-0e966f78eb9b",
    "deepnote_cell_height": 52.390625,
    "deepnote_cell_type": "markdown"
   }
  },
  {
   "cell_type": "markdown",
   "source": "## Q3. Randomized Distributions",
   "metadata": {
    "cell_id": "00027-97c2d527-ca9d-4d1d-8a3b-31478ecd3147",
    "deepnote_cell_height": 70,
    "deepnote_cell_type": "markdown"
   }
  },
  {
   "cell_type": "markdown",
   "source": "**a. You have seen two degree distributions so far.  Both of these have been deterministic, and one worked better than the other.  Let's try a different degree distribution.  Using the 'baseline' degree distribution, send the raccoon over a channel with erasure probability 0.2 over multiple trials. For each trial, record the number of packets sent for the image to be decoded. Then, plot this as a histogram.**",
   "metadata": {
    "cell_id": "00028-d099f635-4d9f-4ac3-b692-8201cf8bb2e8",
    "deepnote_cell_height": 186.734375,
    "deepnote_cell_type": "markdown"
   }
  },
  {
   "cell_type": "code",
   "metadata": {
    "cell_id": "00029-fd187965-a764-4953-9a32-768d40755a69",
    "deepnote_cell_height": 408,
    "deepnote_cell_type": "code"
   },
   "source": "num_trials = 100  # do not change this\n# BEGIN YOUR SOLUTION\neps = 1\nch = Channel(None)\ntx = Transmitter([], None, None)\n# END YOUR SOLUTION\n\npackets_required = []\n\nfor _ in range(num_trials):\n    rx = Receiver(0, None)\n    # BEGIN YOUR SOLUTION\n    \n    # END YOUR SOLUTION\n    \n    \n# Plot the packets required as a histogram\n# BEGIN YOUR SOLUTION\n\n# END YOUR SOLUTION",
   "execution_count": null,
   "outputs": []
  },
  {
   "cell_type": "markdown",
   "source": "**b. Let's examine one final degree distribution. Using the 'sd' degree distribution, send the image over a channel with erasure probability 0.2. Plot the number of packets decoded against the number of packets transmitted.**",
   "metadata": {
    "cell_id": "00030-920f5d60-d9b8-4287-85fa-6c449116a57c",
    "deepnote_cell_height": 119.5625,
    "deepnote_cell_type": "markdown"
   }
  },
  {
   "cell_type": "code",
   "metadata": {
    "cell_id": "00031-469f53a0-cc30-4a28-a80b-196cfb091bba",
    "deepnote_cell_height": 174,
    "deepnote_cell_type": "code"
   },
   "source": "# BEGIN YOUR SOLUTION\neps = 1\nch = Channel(None)\ntx = Transmitter([], None, None)\n\n\n# END YOUR SOLUTION",
   "execution_count": null,
   "outputs": []
  },
  {
   "cell_type": "markdown",
   "source": "## Q4. Competition Model\n\nAlice has just finished eating dinner, and with her EECS 126 homework completed early for once, she plans to sit down for a movie night (she wants to make use of the 30-day free trial of Netflix!).  While Alice is surfing Netflix she decides she wants to stream Interstellar. Alice's laptop drops packets with $p=0.2$.  You, the Chief Technology Officer of Netflix, know that given the heavy workload of EECS 126, this may be your only chance to convert this freeloading customer into a permanent one, but to do so you're going to have to make sure her viewing experience is perfect.\n\n### Concrete specs:\n\n- You are given an erasure channel with drop probability $p=0.2$.\n- You must define a degree distribution (which can vary as a function of the # of transmissions already sent) to minimize the number of total packets needed to be sent for the raccoon to be decoded.  Run your code for 10 trials to get a good estimate of the true number of transmissions needed per image while they watch their movies.  Each trial, your score is \n\n$$\\frac{\\text{# of packets successfully decoded from the first 512 packets}}{512}+\\frac{\\text{# of packets successfully decoded from the first 1024 packets}}{1024}+\\lfloor\\frac{\\text{# of packets successfully decoded from the first 2048 packets}}{1024}\\rfloor+\\lfloor\\frac{\\text{# of packets successfully decoded from the first 4096 packets}}{1024}\\rfloor+\\lfloor\\frac{\\text{# of packets successfully decoded from the first 6144 packets}}{1024}\\rfloor$$\n\n- Note the floor function in the later stages - you can only get the point if you fully decode the file with the alloted number of packets\n\n- In order to receive full credit for this question, you must receive a score of >= 3\n- **You may work in teams of up to three.**\n- Hint: you can use the num_sent argument of Transmitter if you want\n\n\nGood luck! \n\n*If you place in the top 3 teams in the class you will receive extra credit!*\n\n*Note that we will be rerunning solutions, so do not cheat.*",
   "metadata": {
    "cell_id": "00032-53970e94-7f3e-468c-8869-365110a5f134",
    "deepnote_cell_height": 901.71875,
    "deepnote_cell_type": "markdown"
   }
  },
  {
   "cell_type": "code",
   "metadata": {
    "cell_id": "00033-d86a3f62-40ef-44f1-af8a-bb6563c9f363",
    "deepnote_cell_height": 228,
    "deepnote_cell_type": "code"
   },
   "source": "from math import floor\n\ndef score(chunks_decoded):\n    c_d = chunks_decoded\n    s = c_d[8]/512+c_d[16]/1024\n    arr = [33,65,97]\n    for i in arr:\n        if i >= len(c_d):\n            s += 1\n    return s",
   "execution_count": null,
   "outputs": []
  },
  {
   "cell_type": "code",
   "metadata": {
    "cell_id": "00034-af493f6b-9f4b-4721-a8c7-665b52b45703",
    "deepnote_cell_height": 66,
    "deepnote_cell_type": "code"
   },
   "source": "# YOUR CODE HERE",
   "execution_count": null,
   "outputs": []
  },
  {
   "cell_type": "markdown",
   "source": "### Results\n\n- **Report the average score (averaged over 100 trials)**: SCORE\n- **Report the names of your teammates**: TEAMMATES",
   "metadata": {
    "cell_id": "00035-246ce5b5-ffcf-4c94-8bfc-a8adcbb2aca3",
    "deepnote_cell_height": 139.78125,
    "deepnote_cell_type": "markdown"
   }
  },
  {
   "cell_type": "markdown",
   "source": "## References\n[1] D. Mackay.  Information Theory, Inference, and Learning Algorithms. 2003 <br>\n[2] http://blog.notdot.net/2012/01/Damn-Cool-Algorithms-Fountain-Codes",
   "metadata": {
    "cell_id": "00036-6ec730fb-515a-447f-9708-a35dd5328d3e",
    "deepnote_cell_height": 175.5625,
    "deepnote_cell_type": "markdown"
   }
  },
  {
   "cell_type": "markdown",
   "source": "<a style='text-decoration:none;line-height:16px;display:flex;color:#5B5B62;padding:10px;justify-content:end;' href='https://deepnote.com?utm_source=created-in-deepnote-cell&projectId=689c629a-8a71-4920-b171-415d33c91843' target=\"_blank\">\n<img alt='Created in deepnote.com' style='display:inline;max-height:16px;margin:0px;margin-right:7.5px;' src='data:image/svg+xml;base64,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' > </img>\nCreated in <span style='font-weight:600;margin-left:4px;'>Deepnote</span></a>",
   "metadata": {
    "tags": [],
    "created_in_deepnote_cell": true,
    "deepnote_cell_type": "markdown"
   }
  }
 ],
 "nbformat": 4,
 "nbformat_minor": 4,
 "metadata": {
  "anaconda-cloud": {},
  "kernelspec": {
   "display_name": "Python 3 (ipykernel)",
   "language": "python",
   "name": "python3"
  },
  "language_info": {
   "codemirror_mode": {
    "name": "ipython",
    "version": 3
   },
   "file_extension": ".py",
   "mimetype": "text/x-python",
   "name": "python",
   "nbconvert_exporter": "python",
   "pygments_lexer": "ipython3",
   "version": "3.7.11"
  },
  "deepnote_notebook_id": "be9b3346-d083-48a3-8ee5-4929d580e668",
  "deepnote": {},
  "deepnote_execution_queue": []
 }
}